{
 "cells": [
  {
   "cell_type": "markdown",
   "id": "24533a8a",
   "metadata": {},
   "source": [
    "# <font color='blue'>UNINOVE - Ciência de Dados</font>\n",
    "\n",
    "## Tópico 10 - Python: Matrizes (NumPy)"
   ]
  },
  {
   "cell_type": "code",
   "execution_count": 1,
   "id": "b5222591",
   "metadata": {},
   "outputs": [
    {
     "name": "stdout",
     "output_type": "stream",
     "text": [
      "Versão da Linguagem Python Usada Neste Jupyter Notebook: 3.9.7\n"
     ]
    }
   ],
   "source": [
    "# Versão da Linguagem Python\n",
    "from platform import python_version\n",
    "print('Versão da Linguagem Python Usada Neste Jupyter Notebook:', python_version())"
   ]
  },
  {
   "cell_type": "markdown",
   "id": "b8f18eb5-ae99-49d6-852a-7fe078510ec5",
   "metadata": {},
   "source": [
    "### Criando matrizes em NumPy - https://numpy.org"
   ]
  },
  {
   "cell_type": "code",
   "execution_count": 2,
   "id": "9115f6b4",
   "metadata": {},
   "outputs": [],
   "source": [
    "# Importar a biblioteca NumPy.\n",
    "import numpy as np"
   ]
  },
  {
   "cell_type": "code",
   "execution_count": 3,
   "id": "dfa12d99",
   "metadata": {},
   "outputs": [],
   "source": [
    "# Exemplo de uma matriz NumPy\n",
    "matriz = np.array([[1,2,3],[4,5,6],[7,8,9],[10,20,30]])"
   ]
  },
  {
   "cell_type": "code",
   "execution_count": 4,
   "id": "0bd4b238",
   "metadata": {},
   "outputs": [
    {
     "name": "stdout",
     "output_type": "stream",
     "text": [
      "Matriz: [[ 1  2  3]\n",
      " [ 4  5  6]\n",
      " [ 7  8  9]\n",
      " [10 20 30]]\n",
      "Elemento posicao (1,2): 6\n",
      "Dimensoes: 2\n"
     ]
    }
   ],
   "source": [
    "# Imprimindo dados do vetor\n",
    "print('Matriz:',matriz)\n",
    "print('Elemento posicao (1,2):',matriz[1][2])\n",
    "print('Dimensoes:',matriz.ndim)"
   ]
  },
  {
   "cell_type": "code",
   "execution_count": 5,
   "id": "2cfa682b-1d47-4701-ab19-ee4248b8149a",
   "metadata": {},
   "outputs": [
    {
     "name": "stdout",
     "output_type": "stream",
     "text": [
      "Matriz: [[ 1  2  3]\n",
      " [ 4  5  6]\n",
      " [ 7  8  9]\n",
      " [10 18 30]]\n"
     ]
    }
   ],
   "source": [
    "# Atribuindo valor a um elemento da matriz\n",
    "matriz[3][1] = 18\n",
    "print('Matriz:',matriz)"
   ]
  },
  {
   "cell_type": "markdown",
   "id": "a51db420-a8d9-4b7c-9f14-54be4902e5fd",
   "metadata": {},
   "source": [
    "### Operações matemáticas com matrizes"
   ]
  },
  {
   "cell_type": "code",
   "execution_count": 6,
   "id": "36e71880",
   "metadata": {},
   "outputs": [],
   "source": [
    "# Importar biblioteca\n",
    "import numpy as np\n",
    "\n",
    "# Definindo as matrizes\n",
    "matriz01 = np.array([[1,2,3],[4,5,6],[7,8,9],[10,20,30]])\n",
    "matriz02 = np.array([[2,2,2], [6,9,-10], [1,7,9] , [3,6,8]])\n",
    "matriz03 = np.array([[1,1], [0,4],[2,2]])"
   ]
  },
  {
   "cell_type": "code",
   "execution_count": 7,
   "id": "46d3e809",
   "metadata": {},
   "outputs": [],
   "source": [
    "# Soma \n",
    "matrizsoma= matriz01 + matriz02\n",
    "# Subtração\n",
    "matrizsub = matriz01 - matriz02"
   ]
  },
  {
   "cell_type": "markdown",
   "id": "8c96402e-4217-4559-ade9-70b9a5c3d584",
   "metadata": {},
   "source": [
    "Função para efetuar multiplicação de matrizes: </b>dot</b> - https://numpy.org/doc/stable/reference/generated/numpy.dot.html"
   ]
  },
  {
   "cell_type": "code",
   "execution_count": 8,
   "id": "bdfab67f-4cd1-4295-9c6f-bd5c51c29dfd",
   "metadata": {},
   "outputs": [],
   "source": [
    "matrizprod = matriz01.dot(matriz03)"
   ]
  },
  {
   "cell_type": "markdown",
   "id": "e5ce9dbb-efe0-422c-bcb4-5fcdca7a0645",
   "metadata": {},
   "source": [
    "#### Imprimindo as matrizes"
   ]
  },
  {
   "cell_type": "code",
   "execution_count": 9,
   "id": "09837c3f-e014-4287-b85d-8c89e8a36b91",
   "metadata": {},
   "outputs": [
    {
     "name": "stdout",
     "output_type": "stream",
     "text": [
      "Matriz 01\n",
      "[[ 1  2  3]\n",
      " [ 4  5  6]\n",
      " [ 7  8  9]\n",
      " [10 20 30]]\n"
     ]
    }
   ],
   "source": [
    "print('Matriz 01')\n",
    "print(matriz01)"
   ]
  },
  {
   "cell_type": "code",
   "execution_count": 10,
   "id": "955bd599-2690-4cb2-af31-1dcd7be6aa44",
   "metadata": {},
   "outputs": [
    {
     "name": "stdout",
     "output_type": "stream",
     "text": [
      "Matriz 02\n",
      "[[  2   2   2]\n",
      " [  6   9 -10]\n",
      " [  1   7   9]\n",
      " [  3   6   8]]\n"
     ]
    }
   ],
   "source": [
    "print('Matriz 02')\n",
    "print(matriz02)"
   ]
  },
  {
   "cell_type": "code",
   "execution_count": 11,
   "id": "960b35fc-440f-4399-9e9e-13e737b63276",
   "metadata": {},
   "outputs": [
    {
     "name": "stdout",
     "output_type": "stream",
     "text": [
      "Matriz 03\n",
      "[[1 1]\n",
      " [0 4]\n",
      " [2 2]]\n"
     ]
    }
   ],
   "source": [
    "print('Matriz 03')\n",
    "print(matriz03)"
   ]
  },
  {
   "cell_type": "code",
   "execution_count": 12,
   "id": "aaef9c0c-e06f-468e-bb31-2a329e67ee7f",
   "metadata": {},
   "outputs": [
    {
     "name": "stdout",
     "output_type": "stream",
     "text": [
      "Soma Matriz 01 + Matriz 02\n",
      "[[ 3  4  5]\n",
      " [10 14 -4]\n",
      " [ 8 15 18]\n",
      " [13 26 38]]\n"
     ]
    }
   ],
   "source": [
    "print('Soma Matriz 01 + Matriz 02')\n",
    "print(matrizsoma)"
   ]
  },
  {
   "cell_type": "code",
   "execution_count": 13,
   "id": "0ddf926b-2beb-465a-ab50-380f0132aee9",
   "metadata": {},
   "outputs": [
    {
     "name": "stdout",
     "output_type": "stream",
     "text": [
      "Subtracao Matriz 01 - Matriz 02\n",
      "[[-1  0  1]\n",
      " [-2 -4 16]\n",
      " [ 6  1  0]\n",
      " [ 7 14 22]]\n"
     ]
    }
   ],
   "source": [
    "print('Subtracao Matriz 01 - Matriz 02')\n",
    "print(matrizsub)"
   ]
  },
  {
   "cell_type": "code",
   "execution_count": 14,
   "id": "cd1056ce-6567-4bdc-93d4-00f43c093a1d",
   "metadata": {},
   "outputs": [
    {
     "name": "stdout",
     "output_type": "stream",
     "text": [
      "Produto Matriz 01 x Matriz 03\n",
      "[[  7  15]\n",
      " [ 16  36]\n",
      " [ 25  57]\n",
      " [ 70 150]]\n"
     ]
    }
   ],
   "source": [
    "print('Produto Matriz 01 x Matriz 03')\n",
    "print(matrizprod)"
   ]
  },
  {
   "cell_type": "markdown",
   "id": "d63b1684-0de3-491c-90ac-6a5cc9f6c70c",
   "metadata": {},
   "source": [
    "Podemos <b>concatenar</b> e <b>dividir</b> matrizes para isso temos as funções <i>concatenate</i> e <i>split</i>.\n",
    "\n",
    "https://numpy.org/doc/stable/reference/generated/numpy.concatenate.html\n",
    "\n",
    "https://numpy.org/doc/stable/reference/generated/numpy.split.html"
   ]
  },
  {
   "cell_type": "markdown",
   "id": "47d4edf6-f33a-4e9a-b854-7bd1fcdf2ffe",
   "metadata": {},
   "source": [
    "### Concatenação de matrizes"
   ]
  },
  {
   "cell_type": "code",
   "execution_count": 15,
   "id": "b583a65e-3f8b-4690-9879-b77eae6595c3",
   "metadata": {},
   "outputs": [],
   "source": [
    "# Importar biblioteca\n",
    "import numpy as np\n",
    "\n",
    "# Definir matrizes\n",
    "matriz01 = np.array([[1,2,3],[4,5,6],[7,8,9],[10,20,30]])\n",
    "matriz02 = np.array([[2,2,2], [6,9,-10], [1,7,9] , [3,6,8]])\n",
    "matriz03 = np.zeros((1,3))\n",
    "\n",
    "# Concatenando matrizes\n",
    "matrizresultante = np.concatenate((matriz01,matriz02,matriz03))"
   ]
  },
  {
   "cell_type": "code",
   "execution_count": 16,
   "id": "b9540af9-e6b2-4d2e-bdd7-d2e8faa70b71",
   "metadata": {},
   "outputs": [
    {
     "name": "stdout",
     "output_type": "stream",
     "text": [
      "Matriz 01\n",
      "[[ 1  2  3]\n",
      " [ 4  5  6]\n",
      " [ 7  8  9]\n",
      " [10 20 30]]\n"
     ]
    }
   ],
   "source": [
    "print('Matriz 01')\n",
    "print(matriz01)"
   ]
  },
  {
   "cell_type": "code",
   "execution_count": 17,
   "id": "2938c4aa-3d77-4145-995c-60eb216c24df",
   "metadata": {},
   "outputs": [
    {
     "name": "stdout",
     "output_type": "stream",
     "text": [
      "Matriz 02\n",
      "[[  2   2   2]\n",
      " [  6   9 -10]\n",
      " [  1   7   9]\n",
      " [  3   6   8]]\n"
     ]
    }
   ],
   "source": [
    "print('Matriz 02')\n",
    "print(matriz02)"
   ]
  },
  {
   "cell_type": "code",
   "execution_count": 18,
   "id": "feb108bd-e801-4056-99e5-e297b38f0dec",
   "metadata": {},
   "outputs": [
    {
     "name": "stdout",
     "output_type": "stream",
     "text": [
      "Matriz 03\n",
      "[[0. 0. 0.]]\n"
     ]
    }
   ],
   "source": [
    "print('Matriz 03')\n",
    "print(matriz03)"
   ]
  },
  {
   "cell_type": "code",
   "execution_count": 19,
   "id": "bcd04132-24ad-4ec7-92b1-f3b5d75b7729",
   "metadata": {},
   "outputs": [
    {
     "name": "stdout",
     "output_type": "stream",
     "text": [
      "Matriz Concetenada\n",
      "[[  1.   2.   3.]\n",
      " [  4.   5.   6.]\n",
      " [  7.   8.   9.]\n",
      " [ 10.  20.  30.]\n",
      " [  2.   2.   2.]\n",
      " [  6.   9. -10.]\n",
      " [  1.   7.   9.]\n",
      " [  3.   6.   8.]\n",
      " [  0.   0.   0.]]\n"
     ]
    }
   ],
   "source": [
    "print('Matriz Concetenada')\n",
    "print(matrizresultante)"
   ]
  },
  {
   "cell_type": "markdown",
   "id": "b2847343-6660-46f7-804f-3f68afefa367",
   "metadata": {},
   "source": [
    "### Divisão de matrizes - <i>split</i>\n",
    "\n",
    "Uma observação importantes a ser feita com a utilização da função <i>split</i>. Ela irá apresentar erro caso a quantidade de linhas na matriz resultante não seja exatamente igual em cada uma das partes em que a matriz foi dividida. "
   ]
  },
  {
   "cell_type": "code",
   "execution_count": 20,
   "id": "a45d3027-e1c5-47be-bdec-b2656bda648d",
   "metadata": {},
   "outputs": [],
   "source": [
    "# Importar biblioteca\n",
    "import numpy as np\n",
    "\n",
    "# Definir matriz\n",
    "matriz01 = np.array([[1,2,3],[4,5,6],[7,8,9],[10,20,30]])\n",
    "\n",
    "# Split \n",
    "matrizresultante = np.split(matriz01,2)"
   ]
  },
  {
   "cell_type": "code",
   "execution_count": 21,
   "id": "3a3240c8-f190-4fcf-a66c-c1b45af8817a",
   "metadata": {},
   "outputs": [
    {
     "name": "stdout",
     "output_type": "stream",
     "text": [
      "Matriz 01\n",
      "[[ 1  2  3]\n",
      " [ 4  5  6]\n",
      " [ 7  8  9]\n",
      " [10 20 30]]\n"
     ]
    }
   ],
   "source": [
    "# Imprimindo matrizes\n",
    "print('Matriz 01')\n",
    "print(matriz01)"
   ]
  },
  {
   "cell_type": "code",
   "execution_count": 22,
   "id": "9379ab72-c4e5-4b5f-968e-1616fcf3dcbb",
   "metadata": {},
   "outputs": [
    {
     "name": "stdout",
     "output_type": "stream",
     "text": [
      "Matriz Resultante parte 1\n",
      "[[1 2 3]\n",
      " [4 5 6]]\n"
     ]
    }
   ],
   "source": [
    "print('Matriz Resultante parte 1')\n",
    "print(matrizresultante [0])"
   ]
  },
  {
   "cell_type": "code",
   "execution_count": 23,
   "id": "3a0b6ad5-a153-4ed4-bcae-271fae6e1320",
   "metadata": {},
   "outputs": [
    {
     "name": "stdout",
     "output_type": "stream",
     "text": [
      "Matriz Resultante parte 2\n",
      "[[ 7  8  9]\n",
      " [10 20 30]]\n"
     ]
    }
   ],
   "source": [
    "print('Matriz Resultante parte 2')\n",
    "print(matrizresultante [1])"
   ]
  },
  {
   "cell_type": "markdown",
   "id": "4058e528-de1f-483a-83e0-846017a2bb9c",
   "metadata": {},
   "source": [
    "### Matriz Transposta\n",
    "\n",
    "Matriz transposta é aquela que é obtida efetuando-se a troca de linhas por colunas de uma dada matriz.\n",
    "\n",
    "https://numpy.org/doc/stable/reference/generated/numpy.transpose.html"
   ]
  },
  {
   "cell_type": "code",
   "execution_count": 24,
   "id": "ff0f1b06-bbf2-41f2-b4b1-320d22468fd7",
   "metadata": {},
   "outputs": [],
   "source": [
    "# Importar biblioteca\n",
    "import numpy as np\n",
    "\n",
    "# Definindo matriz\n",
    "matriz = np.array([[10, 20],[30,40],[50,60],[70,80]])\n",
    "\n",
    "# Gerando a matriz transposta\n",
    "matrizt = matriz.transpose()"
   ]
  },
  {
   "cell_type": "code",
   "execution_count": 25,
   "id": "ee0547dd-1f47-4722-bbbe-fde41700e7af",
   "metadata": {},
   "outputs": [
    {
     "name": "stdout",
     "output_type": "stream",
     "text": [
      "Matriz\n",
      "[[10 20]\n",
      " [30 40]\n",
      " [50 60]\n",
      " [70 80]]\n"
     ]
    }
   ],
   "source": [
    "print('Matriz')\n",
    "print(matriz)"
   ]
  },
  {
   "cell_type": "code",
   "execution_count": 26,
   "id": "7261d309-2fd8-4b2d-a684-b25eae242e61",
   "metadata": {},
   "outputs": [
    {
     "name": "stdout",
     "output_type": "stream",
     "text": [
      "Matriz transposta\n",
      "[[10 30 50 70]\n",
      " [20 40 60 80]]\n"
     ]
    }
   ],
   "source": [
    "print('Matriz transposta')\n",
    "print(matrizt)"
   ]
  },
  {
   "cell_type": "markdown",
   "id": "e012c5b3-f6f0-4ac4-b5ac-266ad759e393",
   "metadata": {},
   "source": [
    "### Operações matemáticas interessantes com matrizes"
   ]
  },
  {
   "cell_type": "code",
   "execution_count": 27,
   "id": "66c579d4-c2b9-49d9-8772-502b56ddeda9",
   "metadata": {},
   "outputs": [],
   "source": [
    "# Importar biblioteca\n",
    "import numpy as np\n",
    "\n",
    "# Definido matriz\n",
    "matriz = np.array([[1,2,3],[4,5,6],[7,8,9],[10,20,33]])"
   ]
  },
  {
   "cell_type": "markdown",
   "id": "515fa616-fc36-4fdb-8a03-1b6215e6ad92",
   "metadata": {},
   "source": [
    "<b>max()</b>: recupera o maior elemento da matriz.\n",
    "\n",
    "https://numpy.org/doc/stable/reference/generated/numpy.matrix.max.html"
   ]
  },
  {
   "cell_type": "code",
   "execution_count": 28,
   "id": "51cfe1a3-40f5-4889-b367-47a7c7447870",
   "metadata": {},
   "outputs": [
    {
     "name": "stdout",
     "output_type": "stream",
     "text": [
      "Max: 33\n"
     ]
    }
   ],
   "source": [
    "print('Max:',matriz.max())"
   ]
  },
  {
   "cell_type": "markdown",
   "id": "8ac608be-05a4-4690-9dd7-ff05f93f95a2",
   "metadata": {},
   "source": [
    "<b>min()</b>: recupera o menor elemento da matriz.\n",
    "\n",
    "https://numpy.org/doc/stable/reference/generated/numpy.matrix.min.html"
   ]
  },
  {
   "cell_type": "code",
   "execution_count": 29,
   "id": "dd2e745c-1624-4fd6-a264-7d2432602009",
   "metadata": {},
   "outputs": [
    {
     "name": "stdout",
     "output_type": "stream",
     "text": [
      "Min: 1\n"
     ]
    }
   ],
   "source": [
    "print('Min:',matriz.min())"
   ]
  },
  {
   "cell_type": "markdown",
   "id": "8d8daee4-af6b-436e-9b0d-e636e7ef012c",
   "metadata": {},
   "source": [
    "<b>ptp()</b>: apresenta a diferença entre o maior elemento da matriz e o menor elemento da matriz.\n",
    "\n",
    "https://numpy.org/doc/stable/reference/generated/numpy.ptp.html"
   ]
  },
  {
   "cell_type": "code",
   "execution_count": 30,
   "id": "0f491f83-ba08-4f19-bb25-c83d9b33461e",
   "metadata": {},
   "outputs": [
    {
     "name": "stdout",
     "output_type": "stream",
     "text": [
      "Ptp: 32\n"
     ]
    }
   ],
   "source": [
    "print('Ptp:',matriz.ptp())"
   ]
  },
  {
   "cell_type": "markdown",
   "id": "9011506f-f28c-4439-9fc8-c63517ab65a0",
   "metadata": {},
   "source": [
    "<b>sum()</b>: soma os elementos de uma matriz.\n",
    "\n",
    "https://numpy.org/doc/stable/reference/generated/numpy.sum.html"
   ]
  },
  {
   "cell_type": "code",
   "execution_count": 31,
   "id": "29a678d5-79a1-4e8f-abe1-d5ebaaf15343",
   "metadata": {},
   "outputs": [
    {
     "name": "stdout",
     "output_type": "stream",
     "text": [
      "Sum: 108\n"
     ]
    }
   ],
   "source": [
    "print('Sum:',matriz.sum())"
   ]
  },
  {
   "cell_type": "markdown",
   "id": "622fed88-ce1b-4e12-b7df-21e06ce347db",
   "metadata": {},
   "source": [
    "<b>mean()</b>: média aritmética entre os elementos da matriz.\n",
    "\n",
    "https://numpy.org/doc/stable/reference/generated/numpy.mean.html"
   ]
  },
  {
   "cell_type": "code",
   "execution_count": 32,
   "id": "17768e69-3862-4514-ac50-5edfc7bbda1e",
   "metadata": {},
   "outputs": [
    {
     "name": "stdout",
     "output_type": "stream",
     "text": [
      "Mean: 9.0\n"
     ]
    }
   ],
   "source": [
    "print('Mean:',matriz.mean())"
   ]
  },
  {
   "cell_type": "markdown",
   "id": "973ddd36-0ed7-4771-973d-4097be0f33fd",
   "metadata": {},
   "source": [
    "<b>var()</b>: variância entre os elementos da matriz.\n",
    "\n",
    "https://numpy.org/doc/stable/reference/generated/numpy.var.html"
   ]
  },
  {
   "cell_type": "code",
   "execution_count": 33,
   "id": "f1896ed1-5fdd-4bc5-9c0a-0986139209a9",
   "metadata": {},
   "outputs": [
    {
     "name": "stdout",
     "output_type": "stream",
     "text": [
      "Var: 75.16666666666667\n"
     ]
    }
   ],
   "source": [
    "print('Var:',matriz.var())"
   ]
  },
  {
   "cell_type": "markdown",
   "id": "a63719f6-742b-43fa-8018-c511024fbd79",
   "metadata": {},
   "source": [
    "<b>std()</b>: variância entre os elementos da matriz.\n",
    "\n",
    "https://numpy.org/doc/stable/reference/generated/numpy.std.html"
   ]
  },
  {
   "cell_type": "code",
   "execution_count": 34,
   "id": "b8e054ee-ff94-47af-9e69-14fe55a2a7da",
   "metadata": {},
   "outputs": [
    {
     "name": "stdout",
     "output_type": "stream",
     "text": [
      "Std: 8.669871202426636\n"
     ]
    }
   ],
   "source": [
    "print('Std:',matriz.std())"
   ]
  },
  {
   "cell_type": "markdown",
   "id": "06623b2b-dcb9-44ff-a665-5223c90b5cfa",
   "metadata": {},
   "source": [
    "Podemos redimensionar nossas matrizes com o uso da função <i>resize</i> ou <i>reshape</i>. A diferença entre as duas abordagens é:\n",
    "\n",
    "<ul>\n",
    "    <li><b>reshape</b> não altera a matriz original enquanto que <b>resize</b> altera a matriz original.</li>\n",
    "    <li><b>reshape</b> tem que manter a mesma quantidade de elementos na matriz enquanto que no <b>resize</b> não existe esta obrigatoriedade.</li>\n",
    "</ul>\n",
    "\n",
    "Por exemplo, uma matriz 3x3 (3 linhas e 3 colunas - 9 elementos) não pode ser feito o <i>reshape</i> para 2x5 pois neste caso teríamos 10 elementos, 1 a mais do que na matriz original. Para <i>resize</i> não há problema algum em se efetuar o resize de uma matriz 3x3 para uma matriz 2x5."
   ]
  },
  {
   "cell_type": "code",
   "execution_count": 35,
   "id": "e2223744-58ce-4909-8ada-444b1109bdbd",
   "metadata": {},
   "outputs": [],
   "source": [
    "# Importar biblioteca\n",
    "import numpy as np\n",
    "\n",
    "# Definindo matriz\n",
    "matriz = np.array([[1,2,3,4,5],[6,7,8,9,10],[11,12,13,14,15]])"
   ]
  },
  {
   "cell_type": "code",
   "execution_count": 36,
   "id": "c3340f7d-af00-427b-bfd7-7c49ff9bd74d",
   "metadata": {},
   "outputs": [
    {
     "name": "stdout",
     "output_type": "stream",
     "text": [
      "matriz antes do Reshape\n",
      "[[ 1  2  3  4  5]\n",
      " [ 6  7  8  9 10]\n",
      " [11 12 13 14 15]]\n"
     ]
    }
   ],
   "source": [
    "# Imprimindo matrizes\n",
    "print ('matriz antes do Reshape')\n",
    "print(matriz)"
   ]
  },
  {
   "cell_type": "code",
   "execution_count": 37,
   "id": "2352840b-cec8-4b7c-8e92-eb472d3fa4c3",
   "metadata": {},
   "outputs": [
    {
     "name": "stdout",
     "output_type": "stream",
     "text": [
      "Reshape\n",
      "[[ 1  2  3]\n",
      " [ 4  5  6]\n",
      " [ 7  8  9]\n",
      " [10 11 12]\n",
      " [13 14 15]]\n"
     ]
    }
   ],
   "source": [
    "print('Reshape')\n",
    "print(matriz.reshape(5,3));"
   ]
  },
  {
   "cell_type": "code",
   "execution_count": 38,
   "id": "230ef745-9b1a-4cc9-aceb-f941e984f34f",
   "metadata": {},
   "outputs": [
    {
     "name": "stdout",
     "output_type": "stream",
     "text": [
      "matriz após Reshape\n",
      "[[ 1  2  3  4  5]\n",
      " [ 6  7  8  9 10]\n",
      " [11 12 13 14 15]]\n"
     ]
    }
   ],
   "source": [
    "print ('matriz após Reshape')\n",
    "print(matriz)"
   ]
  },
  {
   "cell_type": "code",
   "execution_count": 39,
   "id": "dea5ee27-517a-40e8-be31-9c0dd6630908",
   "metadata": {},
   "outputs": [
    {
     "name": "stdout",
     "output_type": "stream",
     "text": [
      "Efetuar Resize\n"
     ]
    }
   ],
   "source": [
    "print('Efetuar Resize')\n",
    "matriz.resize(8,2)"
   ]
  },
  {
   "cell_type": "code",
   "execution_count": 40,
   "id": "77a58649-e64e-4260-a726-7ee9f0d3e32a",
   "metadata": {},
   "outputs": [
    {
     "name": "stdout",
     "output_type": "stream",
     "text": [
      "Matriz após resize\n",
      "[[ 1  2]\n",
      " [ 3  4]\n",
      " [ 5  6]\n",
      " [ 7  8]\n",
      " [ 9 10]\n",
      " [11 12]\n",
      " [13 14]\n",
      " [15  0]]\n"
     ]
    }
   ],
   "source": [
    "print('Matriz após resize')\n",
    "print(matriz)"
   ]
  },
  {
   "cell_type": "code",
   "execution_count": null,
   "id": "eb58cf4a-be37-44e1-acf9-4bf1f799312c",
   "metadata": {},
   "outputs": [],
   "source": []
  }
 ],
 "metadata": {
  "kernelspec": {
   "display_name": "Python 3 (ipykernel)",
   "language": "python",
   "name": "python3"
  },
  "language_info": {
   "codemirror_mode": {
    "name": "ipython",
    "version": 3
   },
   "file_extension": ".py",
   "mimetype": "text/x-python",
   "name": "python",
   "nbconvert_exporter": "python",
   "pygments_lexer": "ipython3",
   "version": "3.9.7"
  }
 },
 "nbformat": 4,
 "nbformat_minor": 5
}
