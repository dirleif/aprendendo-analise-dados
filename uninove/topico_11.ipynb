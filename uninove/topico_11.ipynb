{
 "cells": [
  {
   "cell_type": "markdown",
   "id": "24533a8a",
   "metadata": {},
   "source": [
    "# <font color='blue'>UNINOVE - Ciência de Dados</font>\n",
    "\n",
    "## Tópico 11 - Python: Computação Científica com SciPy"
   ]
  },
  {
   "cell_type": "code",
   "execution_count": 1,
   "id": "b5222591",
   "metadata": {},
   "outputs": [
    {
     "name": "stdout",
     "output_type": "stream",
     "text": [
      "Versão da Linguagem Python Usada Neste Jupyter Notebook: 3.9.7\n"
     ]
    }
   ],
   "source": [
    "# Versão da Linguagem Python\n",
    "from platform import python_version\n",
    "print('Versão da Linguagem Python Usada Neste Jupyter Notebook:', python_version())"
   ]
  },
  {
   "cell_type": "markdown",
   "id": "b8f18eb5-ae99-49d6-852a-7fe078510ec5",
   "metadata": {},
   "source": [
    "<b>SciPy</b> é um conjunto de ferramentas open-source utilizadas principalmente para computação científica de alta performance. Os pacotes básicos de instalação do SciPy são: <i>NumPy, Matplotlib, Pandas, Sympy Nose, IPhyton e SciPy</i>.\n",
    "\n",
    "https://scipy.org"
   ]
  },
  {
   "cell_type": "markdown",
   "id": "07edcd7a-759e-431d-8480-b9ae4fd20310",
   "metadata": {},
   "source": [
    "### Matriz Inversa"
   ]
  },
  {
   "cell_type": "code",
   "execution_count": 2,
   "id": "9115f6b4",
   "metadata": {},
   "outputs": [],
   "source": [
    "# Importar as bibliotecas NumPy e SciPy\n",
    "import numpy as np"
   ]
  },
  {
   "cell_type": "markdown",
   "id": "8bb0b668-a003-48b0-b1b2-a68728ff4834",
   "metadata": {},
   "source": [
    "https://scipy.github.io/devdocs/reference/linalg.html"
   ]
  },
  {
   "cell_type": "code",
   "execution_count": 3,
   "id": "dfa12d99",
   "metadata": {},
   "outputs": [],
   "source": [
    "from scipy import linalg"
   ]
  },
  {
   "cell_type": "code",
   "execution_count": 4,
   "id": "0bd4b238",
   "metadata": {},
   "outputs": [],
   "source": [
    "# Definindo matriz\n",
    "A = np.array([[3, 0, 2],[9, 1, 7],[1, 0, 1]])\n",
    "# Gerando a matriz inversa\n",
    "Ainversa = linalg.inv(A)"
   ]
  },
  {
   "cell_type": "code",
   "execution_count": 5,
   "id": "2cfa682b-1d47-4701-ab19-ee4248b8149a",
   "metadata": {},
   "outputs": [
    {
     "name": "stdout",
     "output_type": "stream",
     "text": [
      "Matriz: [[ 1  2  3]\n",
      " [ 4  5  6]\n",
      " [ 7  8  9]\n",
      " [10 18 30]]\n"
     ]
    }
   ],
   "source": [
    "print(\"Matriz A\")\n",
    "print(A)"
   ]
  },
  {
   "cell_type": "code",
   "execution_count": 5,
   "id": "cdcae4fa-f141-4955-a7fd-d3ba2595ebaa",
   "metadata": {},
   "outputs": [
    {
     "name": "stdout",
     "output_type": "stream",
     "text": [
      "Matriz A inversa\n",
      "[[ 1.  0. -2.]\n",
      " [-2.  1. -3.]\n",
      " [-1.  0.  3.]]\n"
     ]
    }
   ],
   "source": [
    "print(\"Matriz A inversa\")\n",
    "print(Ainversa)"
   ]
  },
  {
   "cell_type": "markdown",
   "id": "a51db420-a8d9-4b7c-9f14-54be4902e5fd",
   "metadata": {},
   "source": [
    "Podemos agora tirar a prova real, ou seja, verificar se realmente a multiplicação da matriz A pela sua inversa é igual a matriz Identidade."
   ]
  },
  {
   "cell_type": "code",
   "execution_count": 6,
   "id": "36e71880",
   "metadata": {},
   "outputs": [],
   "source": [
    "# Importar bibliotecas\n",
    "import numpy as np\n",
    "from scipy import linalg\n",
    "\n",
    "# matriz\n",
    "A = np.array([[3, 0, 2],[9, 1, 7],[1, 0, 1]])\n",
    "# matriz inversa\n",
    "Ainversa = linalg.inv(A)"
   ]
  },
  {
   "cell_type": "code",
   "execution_count": 7,
   "id": "46d3e809",
   "metadata": {},
   "outputs": [
    {
     "name": "stdout",
     "output_type": "stream",
     "text": [
      "[[1. 0. 0.]\n",
      " [0. 1. 0.]\n",
      " [0. 0. 1.]]\n"
     ]
    }
   ],
   "source": [
    "# matrix identidade\n",
    "B = A.dot(Ainversa)\n",
    "print(B)"
   ]
  },
  {
   "cell_type": "markdown",
   "id": "e76b78b0-93dc-4c7f-84d0-8fdc0ccab8de",
   "metadata": {},
   "source": [
    "### Sistema de equações lineares\n",
    "\n",
    "Agora suponha que tenhamos as seguintes equações: \n",
    "\n",
    "x + y  + z = 6\n",
    "\n",
    "8x + 3y - z = 8\n",
    "\n",
    "2x -3y + z = 12"
   ]
  },
  {
   "cell_type": "code",
   "execution_count": 8,
   "id": "00cc7564-9711-4594-aa28-108d8a255ef0",
   "metadata": {},
   "outputs": [
    {
     "name": "stdout",
     "output_type": "stream",
     "text": [
      "[[ 2.]\n",
      " [-1.]\n",
      " [ 5.]]\n",
      "Valor da variável x: 2.0\n",
      "Valor da variável y: -1.0\n",
      "Valor da variável z: 5.0\n"
     ]
    }
   ],
   "source": [
    "# Importar bibliotecas\n",
    "import numpy as np\n",
    "from scipy import linalg\n",
    "\n",
    "# Definindo matrizes\n",
    "A = np.array([[1, 1, 1],[8, 3, -1],[2, -3, 1]])\n",
    "B = np.array([[6],[8],[12]])\n",
    "\n",
    "# Matriz inversa\n",
    "Ainversa = linalg.inv(A)\n",
    "\n",
    "# Matriz identidade\n",
    "C = Ainversa.dot(B)\n",
    "\n",
    "# Imprimindo valores calculados\n",
    "print(C)\n",
    "print(\"Valor da variável x:\", C[0][0]);\n",
    "print(\"Valor da variável y:\", C[1][0]);\n",
    "print(\"Valor da variável z:\", C[2][0]);"
   ]
  },
  {
   "cell_type": "markdown",
   "id": "92348248-66d2-49c3-b6ff-c9a01a0ea9f4",
   "metadata": {},
   "source": [
    "Outra forma de se resolver é utilizar a função <i>solve</i>.\n",
    "\n",
    "https://scipy.github.io/devdocs/reference/generated/scipy.linalg.solve.html"
   ]
  },
  {
   "cell_type": "code",
   "execution_count": 9,
   "id": "9e5da430-ad13-4c0e-8939-91383d1ac0b1",
   "metadata": {},
   "outputs": [
    {
     "name": "stdout",
     "output_type": "stream",
     "text": [
      "[[ 2.]\n",
      " [-1.]\n",
      " [ 5.]]\n",
      "Valor da variável x: 2.0\n",
      "Valor da variável y: -0.9999999999999998\n",
      "Valor da variável z: 5.000000000000001\n"
     ]
    }
   ],
   "source": [
    "# Importar bibliotecas\n",
    "import numpy as np\n",
    "from scipy import linalg\n",
    "\n",
    "# Definido matrizes\n",
    "A = np.array([[1, 1, 1],[8, 3, -1],[2, -3, 1]])\n",
    "B = np.array([[6],[8],[12]])\n",
    "\n",
    "# Calculando valor das variáveis da equação\n",
    "C = np.linalg.solve(A, B)\n",
    "\n",
    "print(C)\n",
    "print(\"Valor da variável x:\", C[0][0])\n",
    "print(\"Valor da variável y:\", C[1][0])\n",
    "print(\"Valor da variável z:\", C[2][0])"
   ]
  },
  {
   "cell_type": "markdown",
   "id": "a0284e26-fa37-4497-935d-c677841b091a",
   "metadata": {},
   "source": [
    "Note que houve uma pequena diferença de valores devido a questões de arredondamento. Caso necessário e desejado podemos usar a função <i>round</i> para arredondarmos valores decimais para o número de casas desejado.\n",
    "\n",
    "Sintaxe: <i>round(valor_a_ser_arredondado, numero_de_casas_decimais)</i>\n",
    "\n",
    "https://docs.python.org/3/library/functions.html#round"
   ]
  },
  {
   "cell_type": "code",
   "execution_count": 10,
   "id": "62dd70a1-9402-48a2-9503-79c81f155dc6",
   "metadata": {},
   "outputs": [
    {
     "name": "stdout",
     "output_type": "stream",
     "text": [
      "[[ 2.]\n",
      " [-1.]\n",
      " [ 5.]]\n",
      "Valor da variável x: 2.0\n",
      "Valor da variável y: -1.0\n",
      "Valor da variável z: 5.0\n"
     ]
    }
   ],
   "source": [
    "# Importar bibliotecas\n",
    "import numpy as np\n",
    "from scipy import linalg\n",
    "\n",
    "# Definindo matrizes\n",
    "A = np.array([[1, 1, 1],[8, 3, -1],[2, -3, 1]])\n",
    "B = np.array([[6],[8],[12]])\n",
    "\n",
    "# Calculando valor das variávies da equação\n",
    "C = np.linalg.solve(A, B)\n",
    "\n",
    "print(C)\n",
    "\n",
    "# Resultados com arredondamento!!!\n",
    "print(\"Valor da variável x:\", round(C[0][0],2));\n",
    "print(\"Valor da variável y:\", round(C[1][0],2));\n",
    "print(\"Valor da variável z:\", round(C[2][0],2));"
   ]
  },
  {
   "cell_type": "markdown",
   "id": "7f64bf15-817a-44ce-a219-8bc3bf24afba",
   "metadata": {},
   "source": [
    "### Determinante\n",
    "\n",
    "Utilizado com grande frequencia em álgebra linear. Aplica-se a matrizes quadradas, ou seja, que tem mesma quantidade de linhas e colunas."
   ]
  },
  {
   "cell_type": "code",
   "execution_count": 11,
   "id": "c442b322-c822-4111-9c66-43d9e7da59aa",
   "metadata": {},
   "outputs": [],
   "source": [
    "# Importar bibliotecas\n",
    "import numpy as np\n",
    "from scipy import linalg\n",
    "\n",
    "# Definindo matrizes\n",
    "A = np.array([[8]])\n",
    "B = np.array([[4,2],[3,3]])\n",
    "C = np.array([[1,4,2],[1,3,3],[2,6,1]])"
   ]
  },
  {
   "cell_type": "markdown",
   "id": "e255ea22-e605-42f5-b7fa-55eb55195788",
   "metadata": {},
   "source": [
    "https://docs.scipy.org/doc/scipy/reference/generated/scipy.linalg.det.html"
   ]
  },
  {
   "cell_type": "code",
   "execution_count": 12,
   "id": "5126f53b-be38-4c24-ad8b-e3d20e9fac6e",
   "metadata": {},
   "outputs": [
    {
     "name": "stdout",
     "output_type": "stream",
     "text": [
      "Matriz A\n",
      "[[8]]\n",
      "Determinante de A\n",
      "8.0\n"
     ]
    }
   ],
   "source": [
    "# Matriz de ordem 1\n",
    "print(\"Matriz A\")\n",
    "print (A)\n",
    "\n",
    "# Calculando o Determinante\n",
    "print(\"Determinante de A\")\n",
    "Res = round(np.linalg.det(A),2)\n",
    "print(Res)"
   ]
  },
  {
   "cell_type": "code",
   "execution_count": 13,
   "id": "3f96ba12-53df-4ae7-b8b6-79f8318eaa5c",
   "metadata": {},
   "outputs": [
    {
     "name": "stdout",
     "output_type": "stream",
     "text": [
      "Matriz B\n",
      "[[4 2]\n",
      " [3 3]]\n",
      "Determinante de B\n",
      "6.0\n"
     ]
    }
   ],
   "source": [
    "# Matriz ordem 2\n",
    "print(\"Matriz B\")\n",
    "print (B)\n",
    "\n",
    "print(\"Determinante de B\")\n",
    "Res = round(np.linalg.det(B),2)\n",
    "print(Res)"
   ]
  },
  {
   "cell_type": "code",
   "execution_count": 14,
   "id": "aea3270f-ec6b-48c3-af7d-277fa46ce2d7",
   "metadata": {},
   "outputs": [
    {
     "name": "stdout",
     "output_type": "stream",
     "text": [
      "Matriz C\n",
      "[[1 4 2]\n",
      " [1 3 3]\n",
      " [2 6 1]]\n",
      "Determinante de C\n",
      "5.0\n"
     ]
    }
   ],
   "source": [
    "# Matriz ordem 3\n",
    "print(\"Matriz C\")\n",
    "print (C)\n",
    "print(\"Determinante de C\")\n",
    "Res = round(np.linalg.det(C),2)\n",
    "print(Res)"
   ]
  },
  {
   "cell_type": "code",
   "execution_count": null,
   "id": "6e18582e-5fc6-44e2-96a4-639a24771a7e",
   "metadata": {},
   "outputs": [],
   "source": []
  }
 ],
 "metadata": {
  "kernelspec": {
   "display_name": "Python 3 (ipykernel)",
   "language": "python",
   "name": "python3"
  },
  "language_info": {
   "codemirror_mode": {
    "name": "ipython",
    "version": 3
   },
   "file_extension": ".py",
   "mimetype": "text/x-python",
   "name": "python",
   "nbconvert_exporter": "python",
   "pygments_lexer": "ipython3",
   "version": "3.9.7"
  }
 },
 "nbformat": 4,
 "nbformat_minor": 5
}
