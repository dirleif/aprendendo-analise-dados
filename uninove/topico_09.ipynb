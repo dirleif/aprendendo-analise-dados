{
 "cells": [
  {
   "cell_type": "markdown",
   "id": "24533a8a",
   "metadata": {},
   "source": [
    "# <font color='blue'>UNINOVE - Ciência de Dados</font>\n",
    "\n",
    "## Tópico 09 - Python: Vetores (NumPy)"
   ]
  },
  {
   "cell_type": "code",
   "execution_count": 1,
   "id": "b5222591",
   "metadata": {},
   "outputs": [
    {
     "name": "stdout",
     "output_type": "stream",
     "text": [
      "Versão da Linguagem Python Usada Neste Jupyter Notebook: 3.9.7\n"
     ]
    }
   ],
   "source": [
    "# Versão da Linguagem Python\n",
    "from platform import python_version\n",
    "print('Versão da Linguagem Python Usada Neste Jupyter Notebook:', python_version())"
   ]
  },
  {
   "cell_type": "markdown",
   "id": "b8f18eb5-ae99-49d6-852a-7fe078510ec5",
   "metadata": {},
   "source": [
    "### Criando vetores em NumPy - https://numpy.org"
   ]
  },
  {
   "cell_type": "code",
   "execution_count": 2,
   "id": "9115f6b4",
   "metadata": {},
   "outputs": [],
   "source": [
    "# Importar a biblioteca NumPy.\n",
    "import numpy as np"
   ]
  },
  {
   "cell_type": "code",
   "execution_count": 3,
   "id": "dfa12d99",
   "metadata": {},
   "outputs": [],
   "source": [
    "# Exemplo de um vetor NumPy.\n",
    "vetor = np.array( [8, 34, 67, 98] )"
   ]
  },
  {
   "cell_type": "code",
   "execution_count": 4,
   "id": "0bd4b238",
   "metadata": {},
   "outputs": [
    {
     "name": "stdout",
     "output_type": "stream",
     "text": [
      "[ 8 34 67 98]\n"
     ]
    }
   ],
   "source": [
    "# Imprimindo dados do vetor\n",
    "print(vetor)"
   ]
  },
  {
   "cell_type": "markdown",
   "id": "6e6c867e-59c7-4b66-8050-4d246f16e3c7",
   "metadata": {},
   "source": [
    "<b>shape</b> - informa a quantidade de colunas de um vetor. Caso seja uma matriz de muitas dimensões (multidimensional), indicará as dimensões da matriz multidimensional."
   ]
  },
  {
   "cell_type": "code",
   "execution_count": 5,
   "id": "2cfa682b-1d47-4701-ab19-ee4248b8149a",
   "metadata": {},
   "outputs": [
    {
     "name": "stdout",
     "output_type": "stream",
     "text": [
      "Shape: (4,)\n"
     ]
    }
   ],
   "source": [
    "print('Shape:',vetor.shape)"
   ]
  },
  {
   "cell_type": "markdown",
   "id": "39d32309-6353-4cf4-bdb3-5e9539582fb4",
   "metadata": {},
   "source": [
    "<b>dtype</b> - indicará qual o tipo de dado dos valores armazenados no vetor."
   ]
  },
  {
   "cell_type": "code",
   "execution_count": 6,
   "id": "25f1ac9c",
   "metadata": {},
   "outputs": [
    {
     "name": "stdout",
     "output_type": "stream",
     "text": [
      "Dtype: int64\n"
     ]
    }
   ],
   "source": [
    "print('Dtype:',vetor.dtype)"
   ]
  },
  {
   "cell_type": "markdown",
   "id": "a51db420-a8d9-4b7c-9f14-54be4902e5fd",
   "metadata": {},
   "source": [
    "<b>size</b> - retorna a quantidade de elementos do vetor e/ou matriz."
   ]
  },
  {
   "cell_type": "code",
   "execution_count": 7,
   "id": "36e71880",
   "metadata": {},
   "outputs": [
    {
     "name": "stdout",
     "output_type": "stream",
     "text": [
      "Size: 4\n"
     ]
    }
   ],
   "source": [
    "print('Size:',vetor.size)"
   ]
  },
  {
   "cell_type": "markdown",
   "id": "fcd70320-8011-4803-bccc-ef3bcfb3db0a",
   "metadata": {},
   "source": [
    "<b>itemsize</b> - retorna o tamanho de um elemento da matriz em bytes."
   ]
  },
  {
   "cell_type": "code",
   "execution_count": 8,
   "id": "46d3e809",
   "metadata": {},
   "outputs": [
    {
     "name": "stdout",
     "output_type": "stream",
     "text": [
      "Itemsize: 8\n"
     ]
    }
   ],
   "source": [
    "print('Itemsize:',vetor.itemsize)"
   ]
  },
  {
   "cell_type": "markdown",
   "id": "8c96402e-4217-4559-ade9-70b9a5c3d584",
   "metadata": {},
   "source": [
    "<b>ndim</b> - retornará o número de dimensões da matriz."
   ]
  },
  {
   "cell_type": "code",
   "execution_count": 9,
   "id": "bdfab67f-4cd1-4295-9c6f-bd5c51c29dfd",
   "metadata": {},
   "outputs": [
    {
     "name": "stdout",
     "output_type": "stream",
     "text": [
      "Ndim: 1\n"
     ]
    }
   ],
   "source": [
    "print('Ndim:', vetor.ndim)"
   ]
  },
  {
   "cell_type": "code",
   "execution_count": 10,
   "id": "09837c3f-e014-4287-b85d-8c89e8a36b91",
   "metadata": {},
   "outputs": [
    {
     "name": "stdout",
     "output_type": "stream",
     "text": [
      "[ 8.87 34.   67.89 98.    1.09]\n",
      "Shape: (5,)\n",
      "Dtype: float64\n",
      "Size: 5\n",
      "Itemsize: 8\n",
      "Ndim: 1\n"
     ]
    }
   ],
   "source": [
    "# exemplo com float \n",
    "vetor = np.array([8.87, 34, 67.89, 98,1.09])\n",
    " \n",
    "# Imprimindo dados do vetor\n",
    "print(vetor)\n",
    "print('Shape:',vetor.shape)\n",
    "print('Dtype:',vetor.dtype)\n",
    "print('Size:',vetor.size)\n",
    "print('Itemsize:',vetor.itemsize)\n",
    "print('Ndim:', vetor.ndim)"
   ]
  },
  {
   "cell_type": "markdown",
   "id": "d63b1684-0de3-491c-90ac-6a5cc9f6c70c",
   "metadata": {},
   "source": [
    "### Acessando e alterando vetores\n",
    "\n",
    "Assim como nas listas podemos acessar elementos particulares no vetor como também podemos alterar seus valores. Para isso devemos usar o índice dos mesmos, lembrando que o primeiro elemento tem índice igual a 0 e assim sucessivamente. "
   ]
  },
  {
   "cell_type": "code",
   "execution_count": 11,
   "id": "b583a65e-3f8b-4690-9879-b77eae6595c3",
   "metadata": {},
   "outputs": [
    {
     "name": "stdout",
     "output_type": "stream",
     "text": [
      "Vetor posicao 0: 8\n",
      "Vetor posicao 2: 67\n",
      "[  8 231  67 105]\n"
     ]
    }
   ],
   "source": [
    "import numpy as np\n",
    " \n",
    "vetor = np.array([8, 34, 67, 98] )\n",
    "# imprimindo elementos na posção 0 e 2\n",
    "print('Vetor posicao 0:',vetor[0])\n",
    "print('Vetor posicao 2:',vetor[2])\n",
    "\n",
    "# alterando o valor dos elementos 1 e 3\n",
    "vetor[1] = 231\n",
    "vetor[3] = 105\n",
    "# imprimindo o novo vetor\n",
    "print(vetor)"
   ]
  },
  {
   "cell_type": "markdown",
   "id": "b2847343-6660-46f7-804f-3f68afefa367",
   "metadata": {},
   "source": [
    "### Criação de vetores\n",
    "\n",
    "Podemos também criar vetores vazios, com valores igual a zero, com valores igual a 1, com valores uniformemente distribuídos ou com valores aleatórios (dentro de intervalos que podemos pré-determinar)."
   ]
  },
  {
   "cell_type": "code",
   "execution_count": 12,
   "id": "a45d3027-e1c5-47be-bdec-b2656bda648d",
   "metadata": {},
   "outputs": [],
   "source": [
    "# importar biblioteca NumPy\n",
    "import numpy as np"
   ]
  },
  {
   "cell_type": "markdown",
   "id": "8ef656a6-4de4-48bd-815f-73f28ae6bdc8",
   "metadata": {},
   "source": [
    "<i>empty(quantidade_de_elementos, tipo_de_dados)</i>: criar matriz com valores vazios."
   ]
  },
  {
   "cell_type": "code",
   "execution_count": 13,
   "id": "3a3240c8-f190-4fcf-a66c-c1b45af8817a",
   "metadata": {},
   "outputs": [
    {
     "name": "stdout",
     "output_type": "stream",
     "text": [
      "[                  0                   0                   0\n",
      "                   0     139633681760256 7003205409869740082\n",
      " 3545508526067901229 3258692105440945462 4049079336931714105\n",
      "     139634490434099]\n"
     ]
    }
   ],
   "source": [
    "vetor01 = np.empty(10,int)\n",
    "print(vetor01)"
   ]
  },
  {
   "cell_type": "markdown",
   "id": "066c1826-f935-4f7f-a5c3-10f194bfa7f6",
   "metadata": {},
   "source": [
    "Note que ao criar um vetor com 10 elementos <b>vazios</b> foram atribuídos valores quaisquer ao mesmo. O ideal, ao se criar um vetor, que se inicie com zeros ou uns."
   ]
  },
  {
   "cell_type": "markdown",
   "id": "69f7a68d-cebb-439a-a707-34751b8dfb8c",
   "metadata": {},
   "source": [
    "<i>zeros(quantidade_de_elementos, tipo_de_dados)</i>: criar matriz com valores igual a zero."
   ]
  },
  {
   "cell_type": "code",
   "execution_count": 14,
   "id": "9379ab72-c4e5-4b5f-968e-1616fcf3dcbb",
   "metadata": {},
   "outputs": [
    {
     "name": "stdout",
     "output_type": "stream",
     "text": [
      "[0. 0. 0. 0. 0. 0. 0. 0. 0. 0.]\n"
     ]
    }
   ],
   "source": [
    "vetor02 = np.zeros(10)\n",
    "print(vetor02)"
   ]
  },
  {
   "cell_type": "markdown",
   "id": "73123093-cd4e-43b8-a3af-a3fe40bfa922",
   "metadata": {},
   "source": [
    "<i>ones(quantidade_de_elementos, tipo_de_dados)</i>: criar matriz com valores igual a 1."
   ]
  },
  {
   "cell_type": "code",
   "execution_count": 15,
   "id": "3a0b6ad5-a153-4ed4-bcae-271fae6e1320",
   "metadata": {},
   "outputs": [
    {
     "name": "stdout",
     "output_type": "stream",
     "text": [
      "[1. 1. 1. 1. 1. 1. 1. 1. 1. 1.]\n"
     ]
    }
   ],
   "source": [
    "vetor03 = np.ones(10)\n",
    "print(vetor03)"
   ]
  },
  {
   "cell_type": "markdown",
   "id": "4058e528-de1f-483a-83e0-846017a2bb9c",
   "metadata": {},
   "source": [
    "<i>arange(valor_inicial, valor_de_parada, passo, tipo_de_dados)</i>: criar matriz com valores uniformemente distribuídos.\n",
    "\n",
    "<ul>\n",
    "    <li><b>valor_inicial</b>: valor de início do intervalo. O valor padrão é 0.</li>\n",
    "    <li><b>valor_de_parada</b>: enquanto for menor que este valor os valores são incluiídos na matriz.</li>\n",
    "    <li><b>passo</b>: o espaçamento entre os valores. O valor padrão é 1.</li>\n",
    "    <li><b>tipo_de_dados</b>: o tipo de saída dos dados. Se não for especificado, o tipo de dados será o mesmo que o do valor inicial</li>\n",
    "<ul>"
   ]
  },
  {
   "cell_type": "code",
   "execution_count": 16,
   "id": "ff0f1b06-bbf2-41f2-b4b1-320d22468fd7",
   "metadata": {},
   "outputs": [
    {
     "name": "stdout",
     "output_type": "stream",
     "text": [
      "[ 3.  5.  7.  9. 11.]\n"
     ]
    }
   ],
   "source": [
    "vetor04 = np.arange(3,13,2,float);\n",
    "print(vetor04)"
   ]
  },
  {
   "cell_type": "markdown",
   "id": "e06b4f87-1eee-40e8-877e-2c794237fe83",
   "metadata": {},
   "source": [
    "<i>random.random(quantidade_de_elementos)</i>: gerar número randômico, ponto flutuante, entre 0 e 1.\n",
    "\n",
    "O campo <b>tipo_de_dados</b> é opcional."
   ]
  },
  {
   "cell_type": "code",
   "execution_count": 17,
   "id": "ee0547dd-1f47-4722-bbbe-fde41700e7af",
   "metadata": {},
   "outputs": [
    {
     "name": "stdout",
     "output_type": "stream",
     "text": [
      "[0.79732026 0.44690421 3.09400329 0.94209644 2.95930311]\n"
     ]
    }
   ],
   "source": [
    "vetor05 = 6*np.random.random(5);\n",
    "print(vetor05)"
   ]
  },
  {
   "cell_type": "code",
   "execution_count": null,
   "id": "7261d309-2fd8-4b2d-a684-b25eae242e61",
   "metadata": {},
   "outputs": [],
   "source": []
  }
 ],
 "metadata": {
  "kernelspec": {
   "display_name": "Python 3 (ipykernel)",
   "language": "python",
   "name": "python3"
  },
  "language_info": {
   "codemirror_mode": {
    "name": "ipython",
    "version": 3
   },
   "file_extension": ".py",
   "mimetype": "text/x-python",
   "name": "python",
   "nbconvert_exporter": "python",
   "pygments_lexer": "ipython3",
   "version": "3.9.7"
  }
 },
 "nbformat": 4,
 "nbformat_minor": 5
}
