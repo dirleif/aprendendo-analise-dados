{
 "cells": [
  {
   "cell_type": "markdown",
   "id": "24533a8a",
   "metadata": {},
   "source": [
    "# <font color='blue'>UNINOVE - Ciência de Dados</font>\n",
    "\n",
    "## Tópico 15 - Python: Análise de Dados"
   ]
  },
  {
   "cell_type": "code",
   "execution_count": null,
   "id": "b5222591",
   "metadata": {},
   "outputs": [],
   "source": [
    "# Versão da Linguagem Python\n",
    "from platform import python_version\n",
    "print('Versão da Linguagem Python Usada Neste Jupyter Notebook:', python_version())"
   ]
  },
  {
   "cell_type": "markdown",
   "id": "f358e363",
   "metadata": {},
   "source": [
    "### Regressão com função Polinomial de Primeiro Grau"
   ]
  },
  {
   "cell_type": "code",
   "execution_count": null,
   "id": "9115f6b4",
   "metadata": {},
   "outputs": [],
   "source": [
    "# Biblioteca usada para calcular e plotar gráfico\n",
    "import numpy as np\n",
    "import matplotlib.pyplot as plt"
   ]
  },
  {
   "cell_type": "markdown",
   "id": "c2dff6c4-7752-4abf-9851-d4d1061790e8",
   "metadata": {},
   "source": [
    "### Para o teste inicial vamos efetuar a análise de regressão considerando um polinômio de primeiro grau, ou seja: Y = aX + b.\n",
    "Quando X = 1, Y assume o valor igual a 5\n",
    "\n",
    "Quando X = 2, Y assume o valor igual a 8\n",
    "\n",
    "Quando X = 3, Y assume o valor igual a 11\n",
    "\n",
    "Quando X = 4, Y assume o valor igual a 14"
   ]
  },
  {
   "cell_type": "code",
   "execution_count": null,
   "id": "0bd4b238",
   "metadata": {},
   "outputs": [],
   "source": [
    "x = [1,2,3,4]\n",
    "y = [5,8,11,14]"
   ]
  },
  {
   "cell_type": "markdown",
   "id": "9270c929-618e-497f-90fe-17c00e8a7243",
   "metadata": {},
   "source": [
    "Chamada da função <b>polyfit</b> - Ajuste polinomial de mínimos quadrados. https://numpy.org/doc/stable/reference/generated/numpy.polyfit.html \n",
    "\n",
    "Esta é a função que é responsável por fazer a análise de regressão linear. \n",
    "\n",
    "O primeiro parâmetro são os valores da variável independente X, o segundo parâmetro os valores de variável dependente Y e o terceiro parâmetro o tipo de polinômio, no exemplo dado foi informado valor igual a 1, ou seja, polinômio de primeiro grau. \n",
    "\n",
    "O resultado será armazenado na variável fit."
   ]
  },
  {
   "cell_type": "code",
   "execution_count": null,
   "id": "25f1ac9c",
   "metadata": {},
   "outputs": [],
   "source": [
    "fit = np.polyfit(x,y,1)"
   ]
  },
  {
   "cell_type": "markdown",
   "id": "175d19f4-1313-4d82-8e27-27a82c36e090",
   "metadata": {},
   "source": [
    "A função <b>fit_fn</b> é o resultado da regressão linear realizada.\n",
    "\n",
    "<b>poly1d</b> - Uma classe polinomial unidimensional. https://numpy.org/doc/stable/reference/generated/numpy.poly1d.html\n",
    "\n",
    "Uma classe de conveniência, usada para encapsular operações \"naturais\" em polinômios para que essas operações possam assumir sua forma habitual no código."
   ]
  },
  {
   "cell_type": "code",
   "execution_count": null,
   "id": "0e401150",
   "metadata": {},
   "outputs": [],
   "source": [
    "fit_fn = np.poly1d(fit)"
   ]
  },
  {
   "cell_type": "markdown",
   "id": "0e518dbc-2d48-48c6-b8a9-48e91a86c532",
   "metadata": {},
   "source": [
    "Impressão das constantes <i>a</i> e <i>b</i> que foram determinadas na análise de regressão linear. Note que foi associado o valor 3 a constante <i>a</i> e o valor 2 a constante <i>b</i>."
   ]
  },
  {
   "cell_type": "code",
   "execution_count": null,
   "id": "0a250832",
   "metadata": {},
   "outputs": [],
   "source": [
    "print('Y = aX + b. Então a =',round(fit[0],2), 'e b =',round(fit[1],2))"
   ]
  },
  {
   "cell_type": "markdown",
   "id": "36b7e2b2-8f02-4797-a465-42f95fe91150",
   "metadata": {},
   "source": [
    "Impressão da função <b>fit_fn</b>. O resultado é o mesmo da impressão da linha anterior, ou seja, constante <i>a</i> possui valor igual a 3 e constante <i>b</i> possui valor igual a 2."
   ]
  },
  {
   "cell_type": "code",
   "execution_count": null,
   "id": "04ea3e69-b866-48dd-9d76-77c4e417489c",
   "metadata": {},
   "outputs": [],
   "source": [
    "print(fit_fn)"
   ]
  },
  {
   "cell_type": "markdown",
   "id": "7cef1df8-a237-45b3-b2d0-ab7816ce7f83",
   "metadata": {},
   "source": [
    "Predição realizada assumindo que valor de <i>X</i> igual a 10. Caso X seja igual a 10, pela análise de regressão linear efetuada, conclui-se que o valor de Y será igual a 32. Neste ponto temos que a predição foi realizada aplicando-se regressão linear de polinômio de primeiro grau."
   ]
  },
  {
   "cell_type": "code",
   "execution_count": null,
   "id": "61575dc9-1150-4724-9cf6-7e4ee8c5b248",
   "metadata": {},
   "outputs": [],
   "source": [
    "print(round(fit_fn(10),4))"
   ]
  },
  {
   "cell_type": "markdown",
   "id": "49d60f4e-f7e3-42e1-bae9-026119303c1f",
   "metadata": {},
   "source": [
    "Utilizado <b>matplotlib</b> para impressão do gráfico gerado. \n",
    "\n",
    "Neste gráfico vemos os pontos x e y informados (pontos em azul) como a função obtida pela análise de regressão linear feita (reta em vermelho).\n",
    "\n",
    "O primeiro parâmetro temos os valores da variável <i>X</i>, o segundo parâmetro dos valores da variável <i>Y</i>, o terceiro parâmetro trata de como tais dados serão visualizados. O terceiro parâmetro está como <i>bo</i> - <b>b</b> indicando cor azul (blue) e o marcador <b>o</b> indica o símbolo de ponto no gráfico a ser gerado. \n",
    "\n",
    "Em seguida a impressão da reta ou curva, tendo os mesmos parâmetros <i>X</i> como variável independente. Em seguida, ao invés dos parâmetros <i>Y<i>, os parâmetros que serão o resultado da aplicação da função <b>fit_fn</b>. O sexto parâmetro temos a cor da reta a ser impressa, neste caso vermelha (red)."
   ]
  },
  {
   "cell_type": "code",
   "execution_count": null,
   "id": "28e0e68c-b6f5-42c7-97ff-79137b63fc85",
   "metadata": {},
   "outputs": [],
   "source": [
    "plt.plot(x,y, 'bo', x, fit_fn(x), 'red')"
   ]
  },
  {
   "cell_type": "markdown",
   "id": "37ffe5f2-62c7-40e6-a3cd-96c95a86399a",
   "metadata": {},
   "source": [
    "As linhas abaixo não são obrigatórias, são opcionais. Servem para indicar os limites do gráfico a ser impresso. O eixo X deve variar entre 0 e 5 e o eixo Y deve variar entre 0 e 15. "
   ]
  },
  {
   "cell_type": "code",
   "execution_count": null,
   "id": "69f9b2c0-e23d-4291-875f-623250e9b5b7",
   "metadata": {},
   "outputs": [],
   "source": [
    "plt.xlim(0, 5)\n",
    "plt.ylim(0, 15)"
   ]
  },
  {
   "cell_type": "markdown",
   "id": "a941a214-9bb0-4e8a-a8c9-566a06603206",
   "metadata": {},
   "source": [
    "### Análise de Regressão - Polinômio de Segundo Grau\n",
    "\n",
    "Y = aX<sup>2</sup> + bX + c"
   ]
  },
  {
   "cell_type": "code",
   "execution_count": null,
   "id": "0f6b5705-83b8-41ed-af0e-8b7e4aa846eb",
   "metadata": {},
   "outputs": [],
   "source": [
    "# Biblioteca usada para calcular e plotar gráfico\n",
    "import numpy as np\n",
    "import matplotlib.pyplot as plt"
   ]
  },
  {
   "cell_type": "code",
   "execution_count": null,
   "id": "f5f08119-3666-4711-a985-3931aed09820",
   "metadata": {},
   "outputs": [],
   "source": [
    "# atribuindo valores as variáveis x e y\n",
    "x = [0,1,2,3,4,5,6,7]\n",
    "y = [-1,4.01,13,26,43.01,64.02,88.98,118] "
   ]
  },
  {
   "cell_type": "code",
   "execution_count": null,
   "id": "31468a1e-961f-4562-956c-f7dd67a54cb4",
   "metadata": {},
   "outputs": [],
   "source": [
    "# calculando a regressão linear \n",
    "fit = np.polyfit(x,y,2)\n",
    "fit_fn = np.poly1d(fit) "
   ]
  },
  {
   "cell_type": "code",
   "execution_count": null,
   "id": "50c0e86c-16af-42aa-8d1d-1e258cf1d254",
   "metadata": {},
   "outputs": [],
   "source": [
    "# mostrando os dados\n",
    "print(fit)\n",
    "print(fit_fn)\n",
    "print(round(fit_fn(10),4))"
   ]
  },
  {
   "cell_type": "code",
   "execution_count": null,
   "id": "dace1224-2af7-4e02-b24a-0bffd3a23851",
   "metadata": {},
   "outputs": [],
   "source": [
    "# plotando o gráfico\n",
    "plt.plot(x,y, 'o', x, fit_fn(x), 'red')"
   ]
  },
  {
   "cell_type": "markdown",
   "id": "6c410df2-5803-4015-88ad-f83f7b3823b7",
   "metadata": {},
   "source": [
    "### Comparativo entre polinômios de diferentes graus"
   ]
  },
  {
   "cell_type": "code",
   "execution_count": null,
   "id": "b0ef2731-5137-4b1c-99d6-9fa202eb2ed5",
   "metadata": {},
   "outputs": [],
   "source": [
    "# Importação de pacotes\n",
    "import numpy as np\n",
    "import matplotlib.pyplot as plt\n",
    "\n",
    "# atribuição de variáveis\n",
    "x = [0,5,10,20,30,40,50]\n",
    "y = [1,59.75,356,2411,7666,17621,33776] "
   ]
  },
  {
   "cell_type": "markdown",
   "id": "566826c6-4982-4ee9-8629-9c8ca64cdf20",
   "metadata": {},
   "source": [
    "#### Foi dado um conjunto de pontos e foi feita análise de regressão linear utilizando polinômios de grau 1, 2 e 3.\n",
    "\n",
    "Além disso foi calculado o resíduo dos três polinômios. Resíduo é a diferença entre os pontos observados e a curva que foi obtida a partir da análise de regressão. Para que o resíduo fosse calculado tivemos que informar um quarto parâmetro na função <i>polyfit</i> <b>(full=True)</b>."
   ]
  },
  {
   "cell_type": "code",
   "execution_count": null,
   "id": "ccfeabfa-0a68-419e-859b-e11cd2ac16a7",
   "metadata": {},
   "outputs": [],
   "source": [
    "# grau 1\n",
    "fit = np.polyfit(x,y,1,full=True)\n",
    "fit_fn1 = np.poly1d(fit[0]) \n",
    "print(fit_fn1)\n",
    "residuo1 = fit[1][0]"
   ]
  },
  {
   "cell_type": "markdown",
   "id": "2cfb932c-cb64-407c-94f8-95683d407363",
   "metadata": {},
   "source": [
    "Note que o resíduo da função polinomial de grau 2 é muito inferior ao resíduo da função polinomial de grau 1, ou seja, mais precisa que a função polinomial de grau 1."
   ]
  },
  {
   "cell_type": "code",
   "execution_count": null,
   "id": "f13f7f24-f079-4f76-ab1b-7f12101d77a3",
   "metadata": {},
   "outputs": [],
   "source": [
    "# grau 2\n",
    "fit = np.polyfit(x,y,2,full=True)\n",
    "fit_fn2 = np.poly1d(fit[0]) \n",
    "print(fit_fn2)\n",
    "residuo2 = fit[1][0]"
   ]
  },
  {
   "cell_type": "markdown",
   "id": "830bf94c-7a20-4fc2-80a9-2e0dcd418a47",
   "metadata": {},
   "source": [
    "Note que a função polinomial de grau 3 obteve resíduo zero, ou seja, foi precisa em todos os pontos."
   ]
  },
  {
   "cell_type": "code",
   "execution_count": null,
   "id": "a930d8ce-d1ff-4f3f-946d-95177f371768",
   "metadata": {},
   "outputs": [],
   "source": [
    "# grau 3\n",
    "fit = np.polyfit(x,y,3,full=True)\n",
    "fit_fn3 = np.poly1d(fit[0]) \n",
    "print(fit_fn3)\n",
    "residuo3 = fit[1][0]"
   ]
  },
  {
   "cell_type": "markdown",
   "id": "a591af58-be31-4b99-bf78-efeb1ccf4f63",
   "metadata": {},
   "source": [
    "Foi efetuada a predição para o valor 25 considerando os 3 polinômios obtidos, sendo que o valor para os polinômios de grau 2 e 3 foram próximos (4574.9366 e 4544.75) enquanto o valor obtido para o polinômio de grau 1 foi bem distante (10623.4616)."
   ]
  },
  {
   "cell_type": "code",
   "execution_count": null,
   "id": "6ed1ddff-06b6-4d94-9452-e898bff0b554",
   "metadata": {},
   "outputs": [],
   "source": [
    "print('Polinomio Grau 1. Resíduo:',round(residuo1,2), 'Predição para valor igual a 25: ',round(fit_fn1(25),4))\n",
    "print('Polinomio Grau 2. Resíduo:',round(residuo2,2), 'Predição para valor igual a 25: ',round(fit_fn2(25),4))\n",
    "print('Polinomio Grau 3. Resíduo:',round(residuo3,2), 'Predição para valor igual a 25: ',round(fit_fn3(25),4))"
   ]
  },
  {
   "cell_type": "markdown",
   "id": "8b938f85-30c2-4342-a884-9a6bbe2e913a",
   "metadata": {},
   "source": [
    " Veja a precisão de cada polinômio obtido para os valores dados no gráfico abaixo.\n",
    "\n",
    "<font color='brown'>Grau 1: marrom</font>\n",
    "\n",
    "<font color='red'>Grau 2: vermelho</font>\n",
    "\n",
    "<font color='blue'>Grau 3: azul</font>"
   ]
  },
  {
   "cell_type": "code",
   "execution_count": null,
   "id": "3f03d06a-c611-431f-b556-4a5cfef5a9df",
   "metadata": {},
   "outputs": [],
   "source": [
    "plt.plot(x,y, 'o', x, fit_fn1(x), 'brown')\n",
    "plt.plot(x,y, 'o', x, fit_fn2(x), 'red')\n",
    "plt.plot(x,y, 'o', x, fit_fn3(x), 'blue')"
   ]
  },
  {
   "cell_type": "markdown",
   "id": "8e9f3d21-e6be-4faf-a991-f9036a64d6b9",
   "metadata": {},
   "source": [
    "### Regressão Linear Múltipla\n",
    "\n",
    "Vamos ver um exemplo aplicando regressão linear múltipla, ou seja, temos uma variável dependente (Y) e várias variáveis independentes, neste caso 3 variáveis independentes (X, Z e W).\n",
    "\n",
    "Desta forma teríamos algo como: <i>Y = aX + bZ + cW + d</i>\n",
    "\n",
    "Para o cálculo de regressão linear múltipla utilizaremos a biblioteca <b>scikit-learn</b>.\n",
    "\n",
    "Para gerar um conjunto de valores de teste foi estabelecido que a função adotada seria <i>Y = 3X - 2Z + W - 2</i>"
   ]
  },
  {
   "cell_type": "markdown",
   "id": "9cdf2f5b-0b48-4c15-9701-c0865edb763c",
   "metadata": {},
   "source": [
    "Importação das bibliotecas e pacotes necessários. \n",
    "\n",
    "Note que foi importado a biblioteca <b>sklearn</b> para efetuar a regressão linear."
   ]
  },
  {
   "cell_type": "code",
   "execution_count": null,
   "id": "bc302417-5195-458e-a32e-22edeeeaf16a",
   "metadata": {},
   "outputs": [],
   "source": [
    "import numpy as np    \n",
    "from sklearn import linear_model"
   ]
  },
  {
   "cell_type": "markdown",
   "id": "c24e320c-54b2-421e-aad2-2747cce71aa3",
   "metadata": {},
   "source": [
    "Criação dos vetores contendo os valores das variáveis independentes (x_train - sendo que a coluna 1 refere-se a variável X, coluna 2 a variável Z e a coluna 3 a variável W) e da variável dependente (y_train - Y)."
   ]
  },
  {
   "cell_type": "code",
   "execution_count": null,
   "id": "2c438218-f637-4522-a583-ce2068a6cd27",
   "metadata": {},
   "outputs": [],
   "source": [
    "x_train = np.array([ [1,1,1], [2,3,5], [3,4,4], [4,6,7],[7,8,9],[5,2,1],[3,4,5],[3,3,3],[4,4,4],[5,5,5]]);    \n",
    "y_train = np.array([ 0,3,3,5,12,10,4,4,6,8]);  "
   ]
  },
  {
   "cell_type": "markdown",
   "id": "86352ca4-9f0c-4097-b3aa-78dd29f40187",
   "metadata": {},
   "source": [
    "Utilização da função <i>LinearRegression()</i>, responsável por efetuar a regressão linear. \n",
    "\n",
    "Foi utilizada a função <i>fit()</i> para preencher com as matrizes x_train e y_train para serem processadas pela função <i>LinearRegression()</i>. \n",
    "\n",
    "O resultado foi armazenado na variável <b>model</b>."
   ]
  },
  {
   "cell_type": "code",
   "execution_count": null,
   "id": "bba23a41-55d1-4095-975d-4e9a3c2d16bf",
   "metadata": {},
   "outputs": [],
   "source": [
    "model = linear_model.LinearRegression().fit(x_train, y_train) "
   ]
  },
  {
   "cell_type": "markdown",
   "id": "15034b21-d20c-4763-bb81-56234c9c2713",
   "metadata": {},
   "source": [
    "São mostrados os coeficientes referentes as variáveis X, Z e W como também o <b>intercepto</b>. \n",
    "\n",
    "Note que para todos os coeficientes como também para o <b>intercepto</b>, foi feito o arredondamento <i>(round)</i> para 2 casas decimais e, além disso, foram convertidos em cadeia de caracteres pela função <i>str()</i> para que pudessem ser concatenadas (+) a mensagem."
   ]
  },
  {
   "cell_type": "code",
   "execution_count": null,
   "id": "b4e79d21-a80f-4ae4-82c9-7853a2d745c5",
   "metadata": {},
   "outputs": [],
   "source": [
    "print('Y = '+ str(round(model.coef_[0],2)) +' X +' + str(round(model.coef_[1],2)) + 'Z +' + str(round(model.coef_[2],2)) + 'W +' + str(round(model.intercept_,2)) ) "
   ]
  },
  {
   "cell_type": "markdown",
   "id": "704b1d8e-7905-47d4-877e-4159a3a7b784",
   "metadata": {},
   "source": [
    "Impressão do erro médio quadrado. A função <i>mean()</i> é responsável por calcular a média."
   ]
  },
  {
   "cell_type": "code",
   "execution_count": null,
   "id": "92acf727-2466-4574-9039-742ae2b7990d",
   "metadata": {},
   "outputs": [],
   "source": [
    "print('Erro médio quadrado: %.2f' % np.mean((model.predict(x_train) - y_train) ** 2))"
   ]
  },
  {
   "cell_type": "markdown",
   "id": "276c49dc-483a-47af-90ed-1eea6ffd234c",
   "metadata": {},
   "source": [
    "Efetuando a predição para os valores de X, Z e W igual a 10. A função responsável por efetuar a predição é a função <i>predict()</i>."
   ]
  },
  {
   "cell_type": "code",
   "execution_count": null,
   "id": "b97428ee-3b5b-4ed6-97da-da20e0f16e61",
   "metadata": {},
   "outputs": [],
   "source": [
    "print(model.predict([[10,10,10]]))"
   ]
  },
  {
   "cell_type": "code",
   "execution_count": null,
   "id": "5f71bc8c-1910-46fb-9730-2c3134d658be",
   "metadata": {},
   "outputs": [],
   "source": []
  }
 ],
 "metadata": {
  "kernelspec": {
   "display_name": "Python 3 (ipykernel)",
   "language": "python",
   "name": "python3"
  },
  "language_info": {
   "codemirror_mode": {
    "name": "ipython",
    "version": 3
   },
   "file_extension": ".py",
   "mimetype": "text/x-python",
   "name": "python",
   "nbconvert_exporter": "python",
   "pygments_lexer": "ipython3",
   "version": "3.9.7"
  }
 },
 "nbformat": 4,
 "nbformat_minor": 5
}
