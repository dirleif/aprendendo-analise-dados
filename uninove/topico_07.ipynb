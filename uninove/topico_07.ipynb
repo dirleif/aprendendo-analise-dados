{
 "cells": [
  {
   "cell_type": "markdown",
   "id": "24533a8a",
   "metadata": {
    "tags": []
   },
   "source": [
    "# <font color='blue'>UNINOVE - Ciência de Dados</font>\n",
    "\n",
    "## Tópico 07 - Requisições Web"
   ]
  },
  {
   "cell_type": "code",
   "execution_count": null,
   "id": "b5222591",
   "metadata": {},
   "outputs": [],
   "source": [
    "# Versão da Linguagem Python\n",
    "from platform import python_version\n",
    "print('Versão da Linguagem Python Usada Neste Jupyter Notebook:', python_version())"
   ]
  },
  {
   "cell_type": "markdown",
   "id": "f358e363",
   "metadata": {},
   "source": [
    "### Para nossos testes vamos utilizar o site https://putsreq.com\n",
    "### Este site permite gravar solicitações HTTP e respostas pré-programadas para que possamos efetuar testes. "
   ]
  },
  {
   "cell_type": "code",
   "execution_count": null,
   "id": "9115f6b4",
   "metadata": {},
   "outputs": [],
   "source": [
    "# Biblioteca usada para requisitar uma página de um web site\n",
    "import requests"
   ]
  },
  {
   "cell_type": "code",
   "execution_count": null,
   "id": "dfa12d99",
   "metadata": {},
   "outputs": [],
   "source": [
    "# Efetuamos a requisição e imprimimos o retorno\n",
    "# o parâmetro informado após a URL é o \"Bucket name\"\n",
    "requisicao = requests.post('https://putsreq.com/a6ZnhxrdUGZJnuXcMzVg')\n",
    "print(requisicao.text)"
   ]
  },
  {
   "cell_type": "code",
   "execution_count": null,
   "id": "0bd4b238",
   "metadata": {},
   "outputs": [],
   "source": [
    "# Vamos complementar o parâmetro informado na URL\n",
    "nome = input('Informe seu nome: ')\n",
    "requisicao = requests.post(\n",
    "    'https://putsreq.com/a6ZnhxrdUGZJnuXcMzVg?name='+ nome)\n",
    "print(requisicao.text)"
   ]
  },
  {
   "cell_type": "markdown",
   "id": "653475b2",
   "metadata": {},
   "source": [
    "## Exemplo usando requisição WEB, dicionário e listas\n",
    "\n",
    "Outro site interessante e que podemos usar para efetuar nossos testes é o http://www.omdbapi.com\n",
    "\n",
    "Primeiro é necessário que seja gerada uma chave de acesso. Para gerar a chave de acesso utilize seguinte link:\n",
    "\n",
    "http://www.omdbapi.com/apikey.aspx\n",
    "\n",
    "Após preenchimento dos dados e geração da chave (apikey) podemos, através de um navegador, acessar dados do filme Coração Valente (Braveheart) utilizando o link a seguir. Substitua [chave gerada] pela chave que você obteve.\n",
    "\n",
    "http://www.omdbapi.com/?apikey=[chave_gerada]&t=Braveheart"
   ]
  },
  {
   "cell_type": "code",
   "execution_count": null,
   "id": "25f1ac9c",
   "metadata": {},
   "outputs": [],
   "source": [
    "# Bibliotecas usadas na requisiçao e tratamento do JSON\n",
    "import requests\n",
    "import json"
   ]
  },
  {
   "cell_type": "code",
   "execution_count": null,
   "id": "36e71880",
   "metadata": {},
   "outputs": [],
   "source": [
    "# Chave gerada\n",
    "apikey = <chave_gerada>\n",
    "\n",
    "# Função que realiza a requisição e retorna os dados\n",
    "def omdbapi (titulo):\n",
    "    requisicao = requests.post('http://www.omdbapi.com/?apikey='+apikey+'&t='+ titulo)\n",
    "    return json.loads(requisicao.text)"
   ]
  },
  {
   "cell_type": "code",
   "execution_count": null,
   "id": "0e401150",
   "metadata": {},
   "outputs": [],
   "source": [
    "# Solicita nome do filme ou usa um padrão\n",
    "filme = input('Nome do Filme em inglês (Braveheart): ')\n",
    "if filme == '':\n",
    "    filme = 'Braveheart'"
   ]
  },
  {
   "cell_type": "code",
   "execution_count": null,
   "id": "46d3e809",
   "metadata": {},
   "outputs": [],
   "source": [
    "# atribui o retorno da função para a variável dicionario\n",
    "dicionario = omdbapi(filme)\n",
    "print('\\nOMDB')\n",
    "if (dicionario['Response']) == 'False':\n",
    "    print('Filme não localizado')\n",
    "else:\n",
    "    print ('Ano de Produção: '+ dicionario['Year'])\n",
    "    print ('Genero: '+ dicionario['Genre'])\n",
    "    print ('Direção: '+ dicionario['Director'])\n",
    "    atores = dicionario['Actors'].split(', ')\n",
    "    printouator = False\n",
    "    for ator in atores:\n",
    "        if not printouator:\n",
    "            print ('Ator: '+ ator)\n",
    "            printouator = True\n",
    "        else:\n",
    "            print('    : '+ ator) \n",
    "    ratings = dicionario['Ratings']\n",
    "    for rating in ratings:\n",
    "        source = rating['Source']\n",
    "        value = rating['Value']\n",
    "        print('Fonte:',source +'. Valor:',value)"
   ]
  },
  {
   "cell_type": "code",
   "execution_count": null,
   "id": "0a250832",
   "metadata": {},
   "outputs": [],
   "source": []
  }
 ],
 "metadata": {
  "kernelspec": {
   "display_name": "Python 3 (ipykernel)",
   "language": "python",
   "name": "python3"
  },
  "language_info": {
   "codemirror_mode": {
    "name": "ipython",
    "version": 3
   },
   "file_extension": ".py",
   "mimetype": "text/x-python",
   "name": "python",
   "nbconvert_exporter": "python",
   "pygments_lexer": "ipython3",
   "version": "3.9.7"
  }
 },
 "nbformat": 4,
 "nbformat_minor": 5
}
