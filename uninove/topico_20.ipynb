{
 "cells": [
  {
   "cell_type": "markdown",
   "id": "24533a8a",
   "metadata": {},
   "source": [
    "# <font color='blue'>UNINOVE - Ciência de Dados</font>\n",
    "\n",
    "## Tópico 20 - Introdução ao Aprendizado de Máquina em Python (Scikit-learn)"
   ]
  },
  {
   "cell_type": "code",
   "execution_count": 1,
   "id": "b5222591",
   "metadata": {},
   "outputs": [
    {
     "name": "stdout",
     "output_type": "stream",
     "text": [
      "Versão da Linguagem Python Usada Neste Jupyter Notebook: 3.9.7\n"
     ]
    }
   ],
   "source": [
    "# Versão da Linguagem Python\n",
    "from platform import python_version\n",
    "print('Versão da Linguagem Python Usada Neste Jupyter Notebook:', python_version())"
   ]
  },
  {
   "cell_type": "markdown",
   "id": "f358e363",
   "metadata": {},
   "source": [
    "### Exemplo 1\n",
    "\n",
    "Como dados de teste vamos utilizar a seguinte lógica:\n",
    "\n",
    "<ul>\n",
    "    <li>Para valores entre 1 e 30 teremos saída igual a 1</li>\n",
    "    <li>Para valores entre 31 e 60 teremos saída igual a 2</li>\n",
    "    <li>Para valores entre 61 e 100 teremos saída igual a 3</li>\n",
    "</ul>"
   ]
  },
  {
   "cell_type": "code",
   "execution_count": 2,
   "id": "9115f6b4",
   "metadata": {},
   "outputs": [],
   "source": [
    "# importando bibliotecas\n",
    "from sklearn.naive_bayes import GaussianNB\n",
    "import numpy as np"
   ]
  },
  {
   "cell_type": "markdown",
   "id": "96a5af91-3739-4de5-af86-bff613504f86",
   "metadata": {},
   "source": [
    "<i>entrada</i> - dados de entrada. Note que para o exemplo dado foi considerado somente uma variável de entrada (valores entre 1 e 100)\n",
    "\n",
    "<i>saida</i> - dados de saída. Para cada valor de entrada foi associado um valor de saída conforme regra informada acima (valores igual a 1, 2 e 3)."
   ]
  },
  {
   "cell_type": "code",
   "execution_count": 3,
   "id": "54dcc22f-0d5f-4cfb-bb37-239a3cf6e08f",
   "metadata": {},
   "outputs": [
    {
     "name": "stdout",
     "output_type": "stream",
     "text": [
      "[1 2 3]\n"
     ]
    }
   ],
   "source": [
    "entrada = np.array([[1],[4],[35],[60],[61],[70],[80],[90],[100],[30],[16],[19],[31],[50],[55]])\n",
    "saida = np.array(  [1, 1, 2, 2, 3, 3, 3, 3, 3, 2, 1, 1, 2, 2, 2])\n",
    "\n",
    "# associado o algoritmo de Naye Bayes a variável model\n",
    "model = GaussianNB()\n",
    "# variável model preenchida com os dados de entrada/saída\n",
    "model.fit(entrada, saida)\n",
    "# efetuada a predição para os valores 20, 40 e 85\n",
    "predicted= model.predict([[20],[40],[85]])\n",
    "# impressão resultado\n",
    "print(predicted)"
   ]
  },
  {
   "cell_type": "markdown",
   "id": "77fc83e9-0420-42a9-8e41-e08aebed9df1",
   "metadata": {},
   "source": [
    "### Exemplo 2"
   ]
  },
  {
   "cell_type": "markdown",
   "id": "b4f5a8aa-b7be-4f5c-ab48-8e2e055a679b",
   "metadata": {},
   "source": [
    "Vamos agora a um exemplo mais sofisticado, que foi criado baseado no exemplo encontrado em:\n",
    "\n",
    "https://www.digitalocean.com/community/tutorials/como-construir-um-classificador-de-machine-learning-em-python-com-scikit-learn-pt\n",
    "\n",
    "O conjunto de dados (dataset) com o qual iremos trabalhar nestes próximos exemplos é o dataset <i>Breast Cancer Wisconsin Diagnostic Database</i>.\n",
    "\n",
    "O dataset inclui várias informações sobre tumores de câncer de mama, classificando-os em malignos ou benignos. O dataset possui informação acerca de 569 pacientes com tumores de câncer de mama e 30 diferentes características acerca de cada um destes pacientes tais como o raio do tumor, textura, suavidade, área etc\n",
    "\n",
    "O dataset que será utilizado nos exemplos que se seguem <b>vêm instalado no Scikit-learn</b>. Vale ressaltar no Scikit-learn temos vários outros datasets que podemos carregar no Python.\n",
    "\n",
    "Inicialmente vamos efetuar a leitura de dados e vamos compreender o que tais dados nos dizem:"
   ]
  },
  {
   "cell_type": "code",
   "execution_count": 4,
   "id": "ee394ccd-4c1d-47d1-9597-261d3a9b7f96",
   "metadata": {},
   "outputs": [],
   "source": [
    "# importando dados do dataset\n",
    "from sklearn.datasets import load_breast_cancer\n",
    "# leitura do dataset que foi carregado na variável dados \n",
    "dados = load_breast_cancer()"
   ]
  },
  {
   "cell_type": "markdown",
   "id": "fc91035d-ad5a-4ad1-9517-3930830461f2",
   "metadata": {},
   "source": [
    "Carregadas as variáveis <i>titulo_saida</i>, <i>valores_saida</i>, <i>titulo_característica</i> e <i>valores_caracteristica</i> a partir dos dados da variável <i>dados</i>, sendo que tais dados são acessados pelas chaves correspondentes (lembrando que a variável dados é uma estrutura de dados dicionário)."
   ]
  },
  {
   "cell_type": "code",
   "execution_count": 5,
   "id": "162bef86-d880-4096-8ad4-bc12b115e269",
   "metadata": {},
   "outputs": [
    {
     "name": "stdout",
     "output_type": "stream",
     "text": [
      "Classificações existentes:  ['malignant' 'benign']\n",
      "Saídas possíveis:  0 1\n",
      "Características:  ['mean radius' 'mean texture' 'mean perimeter' 'mean area'\n",
      " 'mean smoothness' 'mean compactness' 'mean concavity'\n",
      " 'mean concave points' 'mean symmetry' 'mean fractal dimension'\n",
      " 'radius error' 'texture error' 'perimeter error' 'area error'\n",
      " 'smoothness error' 'compactness error' 'concavity error'\n",
      " 'concave points error' 'symmetry error' 'fractal dimension error'\n",
      " 'worst radius' 'worst texture' 'worst perimeter' 'worst area'\n",
      " 'worst smoothness' 'worst compactness' 'worst concavity'\n",
      " 'worst concave points' 'worst symmetry' 'worst fractal dimension']\n",
      "Valores associados a característica de um indivíduo:  [1.799e+01 1.038e+01 1.228e+02 1.001e+03 1.184e-01 2.776e-01 3.001e-01\n",
      " 1.471e-01 2.419e-01 7.871e-02 1.095e+00 9.053e-01 8.589e+00 1.534e+02\n",
      " 6.399e-03 4.904e-02 5.373e-02 1.587e-02 3.003e-02 6.193e-03 2.538e+01\n",
      " 1.733e+01 1.846e+02 2.019e+03 1.622e-01 6.656e-01 7.119e-01 2.654e-01\n",
      " 4.601e-01 1.189e-01]\n"
     ]
    }
   ],
   "source": [
    "titulo_saida = dados['target_names']\n",
    "valores_saida = dados['target']\n",
    "titulo_caracteristica = dados['feature_names']\n",
    "valores_caracteristica = dados['data']\n",
    "\n",
    "# impressão dos dados\n",
    "print('Classificações existentes: ',titulo_saida)\n",
    "print('Saídas possíveis: ',valores_saida[0],valores_saida[20])\n",
    "print('Características: ',titulo_caracteristica)\n",
    "print('Valores associados a característica de um indivíduo: ',valores_caracteristica[0])"
   ]
  },
  {
   "cell_type": "markdown",
   "id": "22619c8b-3e64-411a-a625-a539bde4e08e",
   "metadata": {},
   "source": [
    "### Exemplo 3\n",
    "\n",
    "Agora vamos ao exemplo 3, onde será efetuado o aprendizado de máquina e verificaremos o percentual de sucesso da predição dos dados aplicando-se o  o algoritmo de Naye Bayes considerando distribuição normal (Gaussiana)"
   ]
  },
  {
   "cell_type": "code",
   "execution_count": 6,
   "id": "57175def-70f9-414b-bd51-7af920bd8cf0",
   "metadata": {},
   "outputs": [],
   "source": [
    "# importando dataset\n",
    "from sklearn.datasets import load_breast_cancer\n",
    "\n",
    "# importando bibliotecas\n",
    "from sklearn.model_selection import train_test_split\n",
    "from sklearn.naive_bayes import GaussianNB\n",
    "from sklearn.metrics import accuracy_score\n",
    "import matplotlib.pyplot as plt\n",
    "\n",
    "# opções que serão utilizadas na impressão do gráfico\n",
    "labels = 'Correto', 'Erro'\n",
    "# define espaçamento do gráfico\n",
    "explode = (0.1,0.1)\n",
    "\n",
    "# carrega os dados do dataset\n",
    "dados = load_breast_cancer()"
   ]
  },
  {
   "cell_type": "markdown",
   "id": "d4f571cc-b469-4d89-a94c-881995385287",
   "metadata": {},
   "source": [
    "Quebra dos dados presentes no dataset <i>Breast Cancer Wisconsin Diagnostic Database</i>. \n",
    "\n",
    "Serão gerados dois pares de arquivos:\n",
    "<ul>\n",
    "    <li>Par 1: treino e treino_saida</li>\n",
    "    <li>Par 2: teste e teste_saida</li>\n",
    "</ul>\n",
    "\n",
    "onde cada par de arquivos conterá metade dos dados presentes no dataset origem <b>(test_size = 0.5)</b>. A função responsável por efetuar tal quebra é a função <b>train_test_split()</b>. \n",
    "\n",
    "Metade dos dados associados a entrada dos dados (chave <i>data</i>) serão gravados respectivamente nas variáveis </i>treino</i> e <i>teste</i>. \n",
    "\n",
    "Metade dos dados associados a saída dos dados (chave <i>target</i>) serão gravados respectivamente nas variáveis <i>treino_saida</i> e <i>teste_saida</i>. \n",
    "\n",
    "A seleção de tais dados é aleatória e utiliza como <b>semente</b> o valor 40 <b>(random_state = 40)</b>. Obviamente que apesar da aleatoriedade ele mantém a associação/relação existente entre os dados de entrada e saída. O fato se termos e usarmos uma semente garante que a seleção que é feita de modo aleatório será a mesma, logo teremos os mesmos resultados para o mesmo conjunto de dados em diferentes execuções. Caso não utilizemos uma semente, os valores aleatórios serão diferentes para diferentes execuções e teremos resultados diferentes para o mesmo conjunto de dados em diferentes execuções."
   ]
  },
  {
   "cell_type": "code",
   "execution_count": 7,
   "id": "d7db60a7-d172-4c13-a317-a0d3e6477cb4",
   "metadata": {},
   "outputs": [],
   "source": [
    "treino, teste, treino_saida, teste_saida = train_test_split(dados['data'], dados['target'], test_size=0.5,random_state=40)"
   ]
  },
  {
   "cell_type": "markdown",
   "id": "52bdc2f7-f1af-4474-a5af-e10b5ad8d708",
   "metadata": {},
   "source": [
    "Realizado o treinamento utilizando-se dos dados presentes em <i>treino</i> e <i>treino_saida</i>, aplicando o algoritmo de Naye Bayes considerando distribuição normal (Gaussiana). É neste momento em que a máquina é treinada, é neste momento onde o aprendizado de máquina ocorre."
   ]
  },
  {
   "cell_type": "code",
   "execution_count": 8,
   "id": "b3429c02-f445-47ee-924d-a1f7f9f8cdb8",
   "metadata": {},
   "outputs": [
    {
     "data": {
      "text/plain": [
       "GaussianNB()"
      ]
     },
     "execution_count": 8,
     "metadata": {},
     "output_type": "execute_result"
    }
   ],
   "source": [
    "modelo = GaussianNB()\n",
    "modelo.fit(treino, treino_saida)"
   ]
  },
  {
   "cell_type": "markdown",
   "id": "d859a2fb-fcf9-46c4-91d2-342642b489b4",
   "metadata": {},
   "source": [
    "Predição efetuada para os dados presentes na variável <i>teste</i> (dados de entrada). Note que o programa desconhece qual são os resultados reais (variável <i>teste_saida</i>). Nesta etapa o programa determina, baseado nas 30 características relacionados a cada tumor, se o tumor é maligno ou benigno."
   ]
  },
  {
   "cell_type": "code",
   "execution_count": 9,
   "id": "25964268-a06e-4cbf-b898-0e8e74044bb9",
   "metadata": {},
   "outputs": [],
   "source": [
    "preds = modelo.predict(teste)"
   ]
  },
  {
   "cell_type": "markdown",
   "id": "0050bcfe-8089-44ca-999d-6db026da00d8",
   "metadata": {},
   "source": [
    "Criação de variáveis que nos auxiliarão a calcular o percentual de precisão da predição."
   ]
  },
  {
   "cell_type": "code",
   "execution_count": 15,
   "id": "caa39c43-3bc8-4243-bd2f-4abd065ecaa9",
   "metadata": {},
   "outputs": [],
   "source": [
    "cont = 0\n",
    "correto = 0\n",
    "erro = 0"
   ]
  },
  {
   "cell_type": "markdown",
   "id": "348b3aa1-de6d-4c56-8590-b447377f0ab0",
   "metadata": {},
   "source": [
    "Percorre-se cada caso que foi utilizado na predição, imprime-se o valor esperado (real) e a predição e se o mesmo foi correto (OK) ou não (ERRO)."
   ]
  },
  {
   "cell_type": "code",
   "execution_count": 16,
   "id": "00d94e4e-d960-4c5f-82b5-941a6df7a918",
   "metadata": {},
   "outputs": [
    {
     "name": "stdout",
     "output_type": "stream",
     "text": [
      "Esperado:  1 . Predição:  1  - OK\n",
      "Esperado:  0 . Predição:  0  - OK\n",
      "Esperado:  1 . Predição:  1  - OK\n",
      "Esperado:  1 . Predição:  1  - OK\n",
      "Esperado:  0 . Predição:  0  - OK\n",
      "Esperado:  1 . Predição:  1  - OK\n",
      "Esperado:  1 . Predição:  1  - OK\n",
      "Esperado:  1 . Predição:  1  - OK\n",
      "Esperado:  1 . Predição:  0  - ERRO\n",
      "Esperado:  1 . Predição:  1  - OK\n",
      "Esperado:  0 . Predição:  0  - OK\n",
      "Esperado:  1 . Predição:  1  - OK\n",
      "Esperado:  1 . Predição:  1  - OK\n",
      "Esperado:  1 . Predição:  1  - OK\n",
      "Esperado:  0 . Predição:  0  - OK\n",
      "Esperado:  1 . Predição:  1  - OK\n",
      "Esperado:  1 . Predição:  1  - OK\n",
      "Esperado:  1 . Predição:  1  - OK\n",
      "Esperado:  1 . Predição:  1  - OK\n",
      "Esperado:  1 . Predição:  1  - OK\n",
      "Esperado:  1 . Predição:  1  - OK\n",
      "Esperado:  0 . Predição:  0  - OK\n",
      "Esperado:  1 . Predição:  1  - OK\n",
      "Esperado:  0 . Predição:  0  - OK\n",
      "Esperado:  0 . Predição:  0  - OK\n",
      "Esperado:  0 . Predição:  0  - OK\n",
      "Esperado:  0 . Predição:  0  - OK\n",
      "Esperado:  0 . Predição:  0  - OK\n",
      "Esperado:  1 . Predição:  1  - OK\n",
      "Esperado:  1 . Predição:  1  - OK\n",
      "Esperado:  1 . Predição:  1  - OK\n",
      "Esperado:  0 . Predição:  0  - OK\n",
      "Esperado:  0 . Predição:  0  - OK\n",
      "Esperado:  1 . Predição:  1  - OK\n",
      "Esperado:  1 . Predição:  1  - OK\n",
      "Esperado:  1 . Predição:  1  - OK\n",
      "Esperado:  1 . Predição:  1  - OK\n",
      "Esperado:  0 . Predição:  0  - OK\n",
      "Esperado:  1 . Predição:  1  - OK\n",
      "Esperado:  1 . Predição:  1  - OK\n",
      "Esperado:  0 . Predição:  0  - OK\n",
      "Esperado:  1 . Predição:  1  - OK\n",
      "Esperado:  1 . Predição:  1  - OK\n",
      "Esperado:  1 . Predição:  1  - OK\n",
      "Esperado:  0 . Predição:  0  - OK\n",
      "Esperado:  0 . Predição:  0  - OK\n",
      "Esperado:  1 . Predição:  1  - OK\n",
      "Esperado:  1 . Predição:  1  - OK\n",
      "Esperado:  0 . Predição:  0  - OK\n",
      "Esperado:  1 . Predição:  1  - OK\n",
      "Esperado:  0 . Predição:  0  - OK\n",
      "Esperado:  1 . Predição:  1  - OK\n",
      "Esperado:  1 . Predição:  1  - OK\n",
      "Esperado:  1 . Predição:  1  - OK\n",
      "Esperado:  1 . Predição:  1  - OK\n",
      "Esperado:  1 . Predição:  1  - OK\n",
      "Esperado:  0 . Predição:  0  - OK\n",
      "Esperado:  0 . Predição:  0  - OK\n",
      "Esperado:  0 . Predição:  0  - OK\n",
      "Esperado:  1 . Predição:  1  - OK\n",
      "Esperado:  0 . Predição:  1  - ERRO\n",
      "Esperado:  1 . Predição:  0  - ERRO\n",
      "Esperado:  1 . Predição:  1  - OK\n",
      "Esperado:  1 . Predição:  1  - OK\n",
      "Esperado:  1 . Predição:  1  - OK\n",
      "Esperado:  0 . Predição:  0  - OK\n",
      "Esperado:  0 . Predição:  0  - OK\n",
      "Esperado:  0 . Predição:  0  - OK\n",
      "Esperado:  1 . Predição:  1  - OK\n",
      "Esperado:  1 . Predição:  1  - OK\n",
      "Esperado:  1 . Predição:  1  - OK\n",
      "Esperado:  0 . Predição:  0  - OK\n",
      "Esperado:  0 . Predição:  0  - OK\n",
      "Esperado:  1 . Predição:  1  - OK\n",
      "Esperado:  0 . Predição:  0  - OK\n",
      "Esperado:  0 . Predição:  0  - OK\n",
      "Esperado:  0 . Predição:  0  - OK\n",
      "Esperado:  1 . Predição:  1  - OK\n",
      "Esperado:  1 . Predição:  1  - OK\n",
      "Esperado:  1 . Predição:  1  - OK\n",
      "Esperado:  1 . Predição:  1  - OK\n",
      "Esperado:  1 . Predição:  1  - OK\n",
      "Esperado:  0 . Predição:  0  - OK\n",
      "Esperado:  1 . Predição:  1  - OK\n",
      "Esperado:  0 . Predição:  0  - OK\n",
      "Esperado:  1 . Predição:  1  - OK\n",
      "Esperado:  0 . Predição:  0  - OK\n",
      "Esperado:  0 . Predição:  0  - OK\n",
      "Esperado:  1 . Predição:  1  - OK\n",
      "Esperado:  0 . Predição:  0  - OK\n",
      "Esperado:  1 . Predição:  1  - OK\n",
      "Esperado:  1 . Predição:  1  - OK\n",
      "Esperado:  1 . Predição:  1  - OK\n",
      "Esperado:  1 . Predição:  1  - OK\n",
      "Esperado:  1 . Predição:  1  - OK\n",
      "Esperado:  0 . Predição:  0  - OK\n",
      "Esperado:  1 . Predição:  1  - OK\n",
      "Esperado:  1 . Predição:  1  - OK\n",
      "Esperado:  1 . Predição:  1  - OK\n",
      "Esperado:  1 . Predição:  1  - OK\n",
      "Esperado:  1 . Predição:  1  - OK\n",
      "Esperado:  1 . Predição:  1  - OK\n",
      "Esperado:  1 . Predição:  1  - OK\n",
      "Esperado:  0 . Predição:  0  - OK\n",
      "Esperado:  1 . Predição:  1  - OK\n",
      "Esperado:  1 . Predição:  1  - OK\n",
      "Esperado:  1 . Predição:  1  - OK\n",
      "Esperado:  0 . Predição:  0  - OK\n",
      "Esperado:  1 . Predição:  1  - OK\n",
      "Esperado:  1 . Predição:  1  - OK\n",
      "Esperado:  1 . Predição:  1  - OK\n",
      "Esperado:  1 . Predição:  1  - OK\n",
      "Esperado:  0 . Predição:  0  - OK\n",
      "Esperado:  1 . Predição:  1  - OK\n",
      "Esperado:  0 . Predição:  0  - OK\n",
      "Esperado:  1 . Predição:  1  - OK\n",
      "Esperado:  1 . Predição:  1  - OK\n",
      "Esperado:  1 . Predição:  1  - OK\n",
      "Esperado:  1 . Predição:  1  - OK\n",
      "Esperado:  0 . Predição:  0  - OK\n",
      "Esperado:  0 . Predição:  0  - OK\n",
      "Esperado:  1 . Predição:  1  - OK\n",
      "Esperado:  1 . Predição:  1  - OK\n",
      "Esperado:  1 . Predição:  1  - OK\n",
      "Esperado:  1 . Predição:  1  - OK\n",
      "Esperado:  0 . Predição:  0  - OK\n",
      "Esperado:  0 . Predição:  0  - OK\n",
      "Esperado:  1 . Predição:  1  - OK\n",
      "Esperado:  1 . Predição:  1  - OK\n",
      "Esperado:  1 . Predição:  1  - OK\n",
      "Esperado:  1 . Predição:  1  - OK\n",
      "Esperado:  1 . Predição:  1  - OK\n",
      "Esperado:  1 . Predição:  1  - OK\n",
      "Esperado:  1 . Predição:  1  - OK\n",
      "Esperado:  1 . Predição:  1  - OK\n",
      "Esperado:  1 . Predição:  1  - OK\n",
      "Esperado:  1 . Predição:  1  - OK\n",
      "Esperado:  1 . Predição:  1  - OK\n",
      "Esperado:  0 . Predição:  0  - OK\n",
      "Esperado:  1 . Predição:  1  - OK\n",
      "Esperado:  1 . Predição:  0  - ERRO\n",
      "Esperado:  1 . Predição:  1  - OK\n",
      "Esperado:  1 . Predição:  1  - OK\n",
      "Esperado:  0 . Predição:  0  - OK\n",
      "Esperado:  1 . Predição:  1  - OK\n",
      "Esperado:  1 . Predição:  1  - OK\n",
      "Esperado:  0 . Predição:  1  - ERRO\n",
      "Esperado:  1 . Predição:  1  - OK\n",
      "Esperado:  1 . Predição:  1  - OK\n",
      "Esperado:  0 . Predição:  0  - OK\n",
      "Esperado:  1 . Predição:  1  - OK\n",
      "Esperado:  0 . Predição:  0  - OK\n",
      "Esperado:  1 . Predição:  1  - OK\n",
      "Esperado:  0 . Predição:  0  - OK\n",
      "Esperado:  1 . Predição:  1  - OK\n",
      "Esperado:  1 . Predição:  1  - OK\n",
      "Esperado:  0 . Predição:  0  - OK\n",
      "Esperado:  1 . Predição:  1  - OK\n",
      "Esperado:  0 . Predição:  0  - OK\n",
      "Esperado:  1 . Predição:  1  - OK\n",
      "Esperado:  0 . Predição:  0  - OK\n",
      "Esperado:  1 . Predição:  1  - OK\n",
      "Esperado:  1 . Predição:  1  - OK\n",
      "Esperado:  1 . Predição:  1  - OK\n",
      "Esperado:  1 . Predição:  1  - OK\n",
      "Esperado:  1 . Predição:  1  - OK\n",
      "Esperado:  1 . Predição:  1  - OK\n",
      "Esperado:  1 . Predição:  1  - OK\n",
      "Esperado:  0 . Predição:  0  - OK\n",
      "Esperado:  0 . Predição:  1  - ERRO\n",
      "Esperado:  0 . Predição:  0  - OK\n",
      "Esperado:  0 . Predição:  0  - OK\n",
      "Esperado:  1 . Predição:  1  - OK\n",
      "Esperado:  0 . Predição:  0  - OK\n",
      "Esperado:  1 . Predição:  1  - OK\n",
      "Esperado:  0 . Predição:  0  - OK\n",
      "Esperado:  1 . Predição:  1  - OK\n",
      "Esperado:  1 . Predição:  1  - OK\n",
      "Esperado:  1 . Predição:  1  - OK\n",
      "Esperado:  1 . Predição:  1  - OK\n",
      "Esperado:  1 . Predição:  1  - OK\n",
      "Esperado:  1 . Predição:  1  - OK\n",
      "Esperado:  1 . Predição:  1  - OK\n",
      "Esperado:  1 . Predição:  1  - OK\n",
      "Esperado:  1 . Predição:  1  - OK\n",
      "Esperado:  1 . Predição:  1  - OK\n",
      "Esperado:  1 . Predição:  1  - OK\n",
      "Esperado:  0 . Predição:  0  - OK\n",
      "Esperado:  0 . Predição:  0  - OK\n",
      "Esperado:  1 . Predição:  1  - OK\n",
      "Esperado:  1 . Predição:  1  - OK\n",
      "Esperado:  1 . Predição:  1  - OK\n",
      "Esperado:  0 . Predição:  0  - OK\n",
      "Esperado:  0 . Predição:  0  - OK\n",
      "Esperado:  1 . Predição:  1  - OK\n",
      "Esperado:  0 . Predição:  0  - OK\n",
      "Esperado:  1 . Predição:  1  - OK\n",
      "Esperado:  0 . Predição:  1  - ERRO\n",
      "Esperado:  0 . Predição:  0  - OK\n",
      "Esperado:  1 . Predição:  1  - OK\n",
      "Esperado:  0 . Predição:  0  - OK\n",
      "Esperado:  0 . Predição:  0  - OK\n",
      "Esperado:  1 . Predição:  1  - OK\n",
      "Esperado:  1 . Predição:  1  - OK\n",
      "Esperado:  1 . Predição:  1  - OK\n",
      "Esperado:  0 . Predição:  0  - OK\n",
      "Esperado:  1 . Predição:  1  - OK\n",
      "Esperado:  0 . Predição:  0  - OK\n",
      "Esperado:  0 . Predição:  0  - OK\n",
      "Esperado:  0 . Predição:  1  - ERRO\n",
      "Esperado:  0 . Predição:  0  - OK\n",
      "Esperado:  1 . Predição:  1  - OK\n",
      "Esperado:  1 . Predição:  1  - OK\n",
      "Esperado:  1 . Predição:  1  - OK\n",
      "Esperado:  0 . Predição:  0  - OK\n",
      "Esperado:  0 . Predição:  0  - OK\n",
      "Esperado:  1 . Predição:  1  - OK\n",
      "Esperado:  1 . Predição:  1  - OK\n",
      "Esperado:  0 . Predição:  0  - OK\n",
      "Esperado:  1 . Predição:  1  - OK\n",
      "Esperado:  1 . Predição:  1  - OK\n",
      "Esperado:  0 . Predição:  0  - OK\n",
      "Esperado:  0 . Predição:  0  - OK\n",
      "Esperado:  0 . Predição:  0  - OK\n",
      "Esperado:  1 . Predição:  1  - OK\n",
      "Esperado:  0 . Predição:  0  - OK\n",
      "Esperado:  1 . Predição:  1  - OK\n",
      "Esperado:  1 . Predição:  1  - OK\n",
      "Esperado:  1 . Predição:  1  - OK\n",
      "Esperado:  0 . Predição:  0  - OK\n",
      "Esperado:  1 . Predição:  1  - OK\n",
      "Esperado:  1 . Predição:  1  - OK\n",
      "Esperado:  0 . Predição:  0  - OK\n",
      "Esperado:  1 . Predição:  1  - OK\n",
      "Esperado:  1 . Predição:  1  - OK\n",
      "Esperado:  0 . Predição:  0  - OK\n",
      "Esperado:  1 . Predição:  1  - OK\n",
      "Esperado:  0 . Predição:  1  - ERRO\n",
      "Esperado:  0 . Predição:  1  - ERRO\n",
      "Esperado:  0 . Predição:  0  - OK\n",
      "Esperado:  1 . Predição:  1  - OK\n",
      "Esperado:  1 . Predição:  1  - OK\n",
      "Esperado:  1 . Predição:  1  - OK\n",
      "Esperado:  0 . Predição:  0  - OK\n",
      "Esperado:  1 . Predição:  1  - OK\n",
      "Esperado:  0 . Predição:  0  - OK\n",
      "Esperado:  1 . Predição:  1  - OK\n",
      "Esperado:  1 . Predição:  1  - OK\n",
      "Esperado:  1 . Predição:  1  - OK\n",
      "Esperado:  0 . Predição:  0  - OK\n",
      "Esperado:  0 . Predição:  0  - OK\n",
      "Esperado:  0 . Predição:  0  - OK\n",
      "Esperado:  1 . Predição:  1  - OK\n",
      "Esperado:  1 . Predição:  1  - OK\n",
      "Esperado:  1 . Predição:  1  - OK\n",
      "Esperado:  1 . Predição:  1  - OK\n",
      "Esperado:  0 . Predição:  1  - ERRO\n",
      "Esperado:  1 . Predição:  1  - OK\n",
      "Esperado:  1 . Predição:  1  - OK\n",
      "Esperado:  1 . Predição:  1  - OK\n",
      "Esperado:  1 . Predição:  1  - OK\n",
      "Esperado:  1 . Predição:  1  - OK\n",
      "Esperado:  1 . Predição:  1  - OK\n",
      "Esperado:  0 . Predição:  0  - OK\n",
      "Esperado:  1 . Predição:  1  - OK\n",
      "Esperado:  0 . Predição:  0  - OK\n",
      "Esperado:  1 . Predição:  1  - OK\n",
      "Esperado:  1 . Predição:  1  - OK\n",
      "Esperado:  1 . Predição:  1  - OK\n",
      "Esperado:  1 . Predição:  1  - OK\n",
      "Esperado:  0 . Predição:  0  - OK\n",
      "Esperado:  0 . Predição:  0  - OK\n",
      "Esperado:  0 . Predição:  0  - OK\n",
      "Esperado:  0 . Predição:  1  - ERRO\n",
      "Esperado:  1 . Predição:  1  - OK\n",
      "Esperado:  1 . Predição:  1  - OK\n",
      "Esperado:  1 . Predição:  1  - OK\n",
      "Esperado:  0 . Predição:  0  - OK\n",
      "Esperado:  1 . Predição:  1  - OK\n",
      "Esperado:  1 . Predição:  1  - OK\n",
      "Esperado:  1 . Predição:  1  - OK\n",
      "Esperado:  1 . Predição:  1  - OK\n",
      "Esperado:  1 . Predição:  1  - OK\n",
      "Esperado:  1 . Predição:  1  - OK\n",
      "Esperado:  1 . Predição:  1  - OK\n",
      "0.9578947368421052\n",
      "0.9578947368421052\n"
     ]
    },
    {
     "data": {
      "image/png": "[encoded data removed]",
      "text/plain": [
       "<Figure size 432x288 with 1 Axes>"
      ]
     },
     "metadata": {},
     "output_type": "display_data"
    }
   ],
   "source": [
    "for i in (preds):\n",
    "    if (teste_saida[cont] == preds[cont]):\n",
    "      print('Esperado: ',teste_saida[cont],'. Predição: ',preds[cont],' - OK')\n",
    "      correto = correto + 1\n",
    "    else:\n",
    "      print('Esperado: ',teste_saida[cont],'. Predição: ',preds[cont],' - ERRO')\n",
    "      erro = erro + 1\n",
    "    cont = cont + 1\n",
    "\n",
    "# percentual de acerto \n",
    "print(correto / (correto + erro))\n",
    "# percentual de acerto calculado por função do Python\n",
    "print(accuracy_score(teste_saida, preds))\n",
    "\n",
    "# gerando gráfico\n",
    "sizes = [correto, erro]\n",
    "plt.pie(sizes, explode=explode, labels=labels, autopct='%1.1f%%', shadow=True, startangle=90)\n",
    "plt.axis('equal')  \n",
    "plt.show()"
   ]
  },
  {
   "cell_type": "code",
   "execution_count": null,
   "id": "58b50981-8be6-4bae-a74f-86f980c39416",
   "metadata": {},
   "outputs": [],
   "source": []
  }
 ],
 "metadata": {
  "kernelspec": {
   "display_name": "Python 3 (ipykernel)",
   "language": "python",
   "name": "python3"
  },
  "language_info": {
   "codemirror_mode": {
    "name": "ipython",
    "version": 3
   },
   "file_extension": ".py",
   "mimetype": "text/x-python",
   "name": "python",
   "nbconvert_exporter": "python",
   "pygments_lexer": "ipython3",
   "version": "3.9.7"
  }
 },
 "nbformat": 4,
 "nbformat_minor": 5
}
