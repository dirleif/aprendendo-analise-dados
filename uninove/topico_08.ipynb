{
 "cells": [
  {
   "cell_type": "markdown",
   "id": "24533a8a",
   "metadata": {},
   "source": [
    "# <font color='blue'>UNINOVE - Ciência de Dados</font>\n",
    "\n",
    "## Tópico 08 - Expressões Regulares"
   ]
  },
  {
   "cell_type": "code",
   "execution_count": null,
   "id": "b5222591",
   "metadata": {},
   "outputs": [],
   "source": [
    "# Versão da Linguagem Python\n",
    "from platform import python_version\n",
    "print('Versão da Linguagem Python Usada Neste Jupyter Notebook:', python_version())"
   ]
  },
  {
   "cell_type": "markdown",
   "id": "b8f18eb5-ae99-49d6-852a-7fe078510ec5",
   "metadata": {},
   "source": [
    "### Biblioteca RE - https://docs.python.org/pt-br/3.9/library/re.html"
   ]
  },
  {
   "cell_type": "code",
   "execution_count": null,
   "id": "9115f6b4",
   "metadata": {},
   "outputs": [],
   "source": [
    "import re"
   ]
  },
  {
   "cell_type": "code",
   "execution_count": null,
   "id": "dfa12d99",
   "metadata": {},
   "outputs": [],
   "source": [
    "# String onde será realizada a busca\n",
    "string = 'O aluno José foi reprovado. A aluna Ana foi aprovada e os alunos Thiago e Andre ficaram em dependência'"
   ]
  },
  {
   "cell_type": "markdown",
   "id": "4ad91f2a-6554-4c0f-86b1-9ba5b701d656",
   "metadata": {},
   "source": [
    "Usamos dois métodos do módulo <b>re</b>: <i>match</i> e o <i>search</i>.\n",
    "\n",
    "Ambos os métodos possuem 2 parâmetros. O primeiro parâmetro é a <b>string que se deseja procurar</b>. O segundo parâmetro é a <b>string onde a informação desejada será procurada</b>."
   ]
  },
  {
   "cell_type": "code",
   "execution_count": null,
   "id": "0bd4b238",
   "metadata": {},
   "outputs": [],
   "source": [
    "procurar = re.match('O aluno',string)\n",
    "print(procurar)"
   ]
  },
  {
   "cell_type": "code",
   "execution_count": null,
   "id": "25f1ac9c",
   "metadata": {},
   "outputs": [],
   "source": [
    "procurar = re.match('Ana',string)\n",
    "print(procurar)"
   ]
  },
  {
   "cell_type": "markdown",
   "id": "a51db420-a8d9-4b7c-9f14-54be4902e5fd",
   "metadata": {},
   "source": [
    "O método <i>match</i> procura a string desejada no <b>início</b> da string. Caso se encontre correspondência entre a string desejada na string a ser procurada será retornada essa informação conforme acima. \n",
    "\n",
    "Caso não se encontre a correspondência será retornado a palavra <i>None</i>."
   ]
  },
  {
   "cell_type": "code",
   "execution_count": null,
   "id": "36e71880",
   "metadata": {},
   "outputs": [],
   "source": [
    "procurar = re.search('O aluno',string)\n",
    "print(procurar)"
   ]
  },
  {
   "cell_type": "code",
   "execution_count": null,
   "id": "0e401150",
   "metadata": {},
   "outputs": [],
   "source": [
    "procurar = re.search('Ana',string)\n",
    "print(procurar)"
   ]
  },
  {
   "cell_type": "code",
   "execution_count": null,
   "id": "46d3e809",
   "metadata": {},
   "outputs": [],
   "source": [
    "procurar = re.search('Monica',string)\n",
    "print(procurar)"
   ]
  },
  {
   "cell_type": "markdown",
   "id": "8c96402e-4217-4559-ade9-70b9a5c3d584",
   "metadata": {},
   "source": [
    "O método <i>search</i> procura a string desejada em <b>toda</b> string e não somente em seu início. Caso se encontre correspondência entre a string desejada na string a ser procurada será retornada essa informação conforme acima.\n",
    "\n",
    "Caso não se encontre a correspondência será retornado a palavra <i>None</i>."
   ]
  },
  {
   "cell_type": "markdown",
   "id": "f169689c-6a3e-4d01-917d-bfd5b1210426",
   "metadata": {},
   "source": [
    "### RAW string\n",
    "\n",
    "Um dos padrões adotados quando se procura uma cadeia de caracteres em outra cadeia de caracteres é procurar pela RAW string, ou seja, a string pura, <b>sem caracteres especiais</b>."
   ]
  },
  {
   "cell_type": "code",
   "execution_count": null,
   "id": "09837c3f-e014-4287-b85d-8c89e8a36b91",
   "metadata": {},
   "outputs": [],
   "source": [
    "# Imprime considerando caractere especial\n",
    "print('Leonardo\\nFernanda')"
   ]
  },
  {
   "cell_type": "code",
   "execution_count": null,
   "id": "42206922-ef80-4474-ac41-cf57a5f06670",
   "metadata": {},
   "outputs": [],
   "source": [
    "# Imprime string pura\n",
    "print(r'Leonardo\\nFernanda')"
   ]
  },
  {
   "cell_type": "markdown",
   "id": "1fea739e-06e4-457f-afd3-5c9b69081fca",
   "metadata": {},
   "source": [
    "### Usando sequencias especiais\n",
    "\n",
    "<b>\\w</b> significa que o mesmo pode ser substituído por qualquer caractere alfanumérico (ou seja, letras e números).\n",
    "\n",
    "<b>\\d</b> significa que o mesmo pode ser substituído por qualquer caractere numérico. "
   ]
  },
  {
   "cell_type": "code",
   "execution_count": null,
   "id": "6e0f892f-e7bf-440e-a631-31d5c7751710",
   "metadata": {},
   "outputs": [],
   "source": [
    "# Importando biblioteca\n",
    "import re\n",
    "\n",
    "# Definindo a string que será usada \n",
    "string = 'O aluno José foi reprovado. Ele tiou 10 na segunda nota'"
   ]
  },
  {
   "cell_type": "markdown",
   "id": "d0e6c787-0a2f-4fba-9b8a-6d56010046f0",
   "metadata": {},
   "source": [
    "Procura por 6 caracteres alfanuméricos na variável <i>string</i>. \n",
    "\n",
    "Note que a primeira palavra na variável <i>string</i> que possui 6 ou mais caracteres é reprovado. Como a busca é somente por 6 caracteres alfanuméricos o mesmo é carregado com <b>reprov</b> (6 caracteres). Para impressão do valor carregado usamos o método <i>group()</i>, que retorna a string correspondente ao RE. "
   ]
  },
  {
   "cell_type": "code",
   "execution_count": null,
   "id": "3a3240c8-f190-4fcf-a66c-c1b45af8817a",
   "metadata": {},
   "outputs": [],
   "source": [
    "procurar = re.search(r'\\w\\w\\w\\w\\w\\w',string)\n",
    "if (procurar):\n",
    "    print(procurar)\n",
    "    print(procurar.group())\n",
    "else:\n",
    "    print('Não encontrado')"
   ]
  },
  {
   "cell_type": "markdown",
   "id": "e9e01a58-24c9-4941-8489-eccc929ad170",
   "metadata": {},
   "source": [
    "Procura por somente 1 caractere numérico na variável <i>string</i>. \n",
    "\n",
    "Note que a primeira palavra na variável <i>string</i> que possui 1 ou mais caracteres numéricos é 10. Como a busca é somente por 1 caractere numérico o mesmo é carregado com <b>1</b> (1 caractere)."
   ]
  },
  {
   "cell_type": "code",
   "execution_count": null,
   "id": "2b9fd1e7-fd0d-49b3-90b5-95c9e7b9854b",
   "metadata": {},
   "outputs": [],
   "source": [
    "procurar = re.search(r'\\d',string)\n",
    "if (procurar):\n",
    "    print(procurar.group())\n",
    "else:\n",
    "    print('Não encontrado')"
   ]
  },
  {
   "cell_type": "markdown",
   "id": "92fb81a8-0bce-4912-855f-9064a623f0ee",
   "metadata": {},
   "source": [
    "O <b>\\w+</b> significa 1 ou mais caracteres alfanuméricos. Portanto estamos procurando palavra alfanumérica com 6 caracteres ou mais. Neste caso teremos como resultado a palavra <b>reprovado</b>."
   ]
  },
  {
   "cell_type": "code",
   "execution_count": null,
   "id": "ae95e7f7-0c3c-4723-8e48-3dd54a56dac5",
   "metadata": {},
   "outputs": [],
   "source": [
    "procurar = re.search(r'\\w\\w\\w\\w\\w\\w+',string)\n",
    "if (procurar):\n",
    "    print(procurar.group())\n",
    "else:\n",
    "    print('Não encontrado')"
   ]
  },
  {
   "cell_type": "markdown",
   "id": "26b11350-49b6-44ef-a865-8f5d8ca5413a",
   "metadata": {},
   "source": [
    "Outra forma de utilizarmos é com os caracteres <b>{}</b>. Neste caso estou dizendo que tem que ter de 6 a 8 caracteres alfanuméricos, tendo como retorno a palavra <b>reprovad</b> (8 caracteres - tamanho máximo definido)."
   ]
  },
  {
   "cell_type": "code",
   "execution_count": null,
   "id": "4f8e67d3-e260-4b9e-acc2-43195b83d1f5",
   "metadata": {},
   "outputs": [],
   "source": [
    "procurar = re.search(r'\\w{6,8}',string)\n",
    "if (procurar):\n",
    "    print(procurar.group())\n",
    "else:\n",
    "    print('Não encontrado')"
   ]
  },
  {
   "cell_type": "markdown",
   "id": "864c385c-2f59-4497-9029-9e11ce13421d",
   "metadata": {},
   "source": [
    "Neste caso estou procurando por ao menos 6 caracteres alfanuméricos (5 decorrentes dos presentes nos {} e mais um decorrente do \\w+). Neste caso temos que o retorno será <b>reprovado</b>."
   ]
  },
  {
   "cell_type": "code",
   "execution_count": null,
   "id": "55b5c2e1-ed89-482c-85c7-72a76bec501f",
   "metadata": {},
   "outputs": [],
   "source": [
    "procurar = re.search(r'\\w{5}\\w+',string)\n",
    "if (procurar):\n",
    "    print(procurar.group())\n",
    "else:\n",
    "    print('Não encontrado')"
   ]
  },
  {
   "cell_type": "markdown",
   "id": "f322a041-9c38-4024-a493-7bad3ff95c9c",
   "metadata": {},
   "source": [
    "Estou procurando por ao menos 1 caractere numérico. Neste caso o retorno será <b>10</b> (como desejado)."
   ]
  },
  {
   "cell_type": "code",
   "execution_count": null,
   "id": "92fb20b0-56a7-4626-a46d-9852b3b3a0ae",
   "metadata": {},
   "outputs": [],
   "source": [
    "procurar = re.search(r'\\d+',string)\n",
    "if (procurar):\n",
    "    print(procurar.group())\n",
    "else:\n",
    "    print('Não encontrado')"
   ]
  },
  {
   "cell_type": "markdown",
   "id": "5a5cde5e-0ed8-4c1e-abdb-87b84e14cf8e",
   "metadata": {},
   "source": [
    "Note que se a nota possuir ponto o programa acima irá falhar, irá pegar somente a parte inteira. Para solucionarmos este problema vamos ajustar a procura, "
   ]
  },
  {
   "cell_type": "code",
   "execution_count": null,
   "id": "d1fd6a62-887a-414c-8c2b-593224fab7fa",
   "metadata": {},
   "outputs": [],
   "source": [
    "string = 'O aluno José foi reprovado. Ele tiou 10.0 na segunda nota'\n",
    "procurar = re.search(r'\\d+\\.\\d+',string)\n",
    "if (procurar):\n",
    "    print(procurar.group())\n",
    "else:\n",
    "    procurar = re.search(r'\\d+', string)\n",
    "    if (procurar):\n",
    "        print(procurar.group())\n",
    "    else:\n",
    "        print('Não encontrado')"
   ]
  },
  {
   "cell_type": "markdown",
   "id": "a4edabf8-d680-4e10-8f3c-4d98fae87630",
   "metadata": {},
   "source": [
    "ou seja, irá procurar por números seguido de um ponto e seguido de outros números. Caso não localize ele procure somente pelo número, desconsiderando o ponto."
   ]
  },
  {
   "cell_type": "markdown",
   "id": "1c4444bf-1f7b-4184-8a50-1d80d79f1c7f",
   "metadata": {},
   "source": [
    "Note que o método <i>search</i> localiza a primeira cadeia de caracteres que satisfaça a expressão regular porém não continua a busca.\n",
    "\n",
    "Caso queiramos procurar várias ocorrências de uma cadeia de caracteres (expressão regular) em uma string, podemos usar o método <b>findall</b>.\n",
    "\n",
    "O método <i>findall</i> irá localizar todas as ocorrências que satisfaçam a expressão regular e irá armazenar o resultado em uma lista."
   ]
  },
  {
   "cell_type": "code",
   "execution_count": null,
   "id": "e8d14aa5-f1d1-460c-ba49-8546ab98f329",
   "metadata": {},
   "outputs": [],
   "source": [
    "import re\n",
    " \n",
    "string = 'O aluno José foi reprovado. Ele tirou 7.7 na segunda nota'"
   ]
  },
  {
   "cell_type": "markdown",
   "id": "f9f6265f-ceea-4b87-805b-1d8b25e67615",
   "metadata": {},
   "source": [
    "Retorna todas as palavras da cadeia de caracteres que tenham 4 caracteres ou mais."
   ]
  },
  {
   "cell_type": "code",
   "execution_count": null,
   "id": "eebdb13d-0811-41d9-ad09-a1fe9579b256",
   "metadata": {},
   "outputs": [],
   "source": [
    "procurar = re.findall(r'\\w\\w\\w\\w+',string)\n",
    "if (procurar):\n",
    "    for x in procurar:\n",
    "        print(x)\n",
    "else:\n",
    "    print('Não encontrado')"
   ]
  },
  {
   "cell_type": "markdown",
   "id": "07674b2c-d819-490f-bdb9-dfb35aae9f46",
   "metadata": {},
   "source": [
    "Vamos fazer uma busca para recuperar emails da página da Uninove, referente ao Fale Conosco do curso de Ciência de Computação.\n",
    "\n",
    "Vamos acessar o link: https://www.uninove.br/graduacao/ciencia-da-computacao/fale-com-o-coordenador/"
   ]
  },
  {
   "cell_type": "code",
   "execution_count": null,
   "id": "6de57cf0-4bf2-4639-92df-17a710cb1bbe",
   "metadata": {},
   "outputs": [],
   "source": [
    "# Importando a biblioteca para requisitar a página web\n",
    "import requests\n",
    "\n",
    "# definir uma variável para o link da página\n",
    "url = 'https://www.uninove.br/graduacao/ciencia-da-computacao/fale-com-o-coordenador/'\n",
    "requisicao = requests.post(url)\n",
    "\n",
    "# imprimir o retorno da requisição\n",
    "# print(requisicao.text)"
   ]
  },
  {
   "cell_type": "markdown",
   "id": "204ed4b9-b5e5-415c-80db-ed301ff5b96a",
   "metadata": {},
   "source": [
    "Ao verificarmos o retorno vemos que toda a página HTML foi impressa. Porém como o interesse está no e-mail, precisamos localizar algo no padrão abaixo:"
   ]
  },
  {
   "cell_type": "code",
   "execution_count": null,
   "id": "56e1ab9a-7049-4ca1-907e-2aea2ee54c45",
   "metadata": {},
   "outputs": [],
   "source": [
    "# <a href=\"mailto:nilson.salvetti@uninove.br\">nilson.salvetti@uninove.br</a>"
   ]
  },
  {
   "cell_type": "markdown",
   "id": "319a7ce8-0f40-413d-9389-8ecf4cd3bbae",
   "metadata": {},
   "source": [
    "Note que o email aparece 2 vezes porém é interessante que peguemos somente uma única vez pois os valores se repetem."
   ]
  },
  {
   "cell_type": "code",
   "execution_count": null,
   "id": "b557e92a-c537-4d7c-abe9-d7f904cd2f4e",
   "metadata": {},
   "outputs": [],
   "source": [
    "# bibliotecas\n",
    "import re\n",
    "import requests\n",
    "\n",
    "url = 'https://www.uninove.br/graduacao/ciencia-da-computacao/fale-com-o-coordenador/'\n",
    "requisicao = requests.post(url)\n",
    "string_de_retorno = requisicao.text"
   ]
  },
  {
   "cell_type": "markdown",
   "id": "fb6de7c4-8172-4e6b-93ec-8f6ab4c9ed3e",
   "metadata": {},
   "source": [
    "Como email aparece duas vezes a primeira comparação feita é que a cadeia de caracteres inicie com \"mailto:\" (desta forma já elimino o email que aparece na segunda parte da string justamente por não possuir mailto). \n",
    "\n",
    "Em seguida é obrigatório a presença de um caractere alfanumérico (\\w).\n",
    "\n",
    "O colchete ([]) indica, na expressão regular, uma opção, ou seja, podemos ter um caractere alfanumérico (\\w), um ponto (\\.) ou um traço (-). \n",
    "\n",
    "Depois do colchete temos um símbolo de +. O símbolo de + indica uma ou mais vezes, ou seja, a expressão regular [\\w\\.-]+ pode ser lida como: deve possuir uma combinação de caracteres alfanuméricos, pontos e traços, tantos quanto se faça necessário, mas ao menos um destes três. \n",
    "\n",
    "Em seguida deve possuir o caractere @. Depois do @ ([\\w-]+) deve possuir uma combinação de caracteres alfanuméricos e traços (pelo menos um deles). \n",
    "\n",
    "Posteriormente deve possuir obrigatoriamente um ponto (\\.). Depois do ponto esta associado a expressão regular [\\w\\.-]*. O * significa 0 ou mais vezes. Note que o + significa 1 ou mais vezes. A leitura da expressão regular [\\w\\.-]* pode ser feita como 0 ou mais combinações de caracteres alfanuméricos, pontos e traços. \n",
    "\n",
    "Deve ser finalizada (\\w{2,3}) com 2 ou 3 caracteres alfanuméricos."
   ]
  },
  {
   "cell_type": "code",
   "execution_count": null,
   "id": "5395757d-6dd1-466e-b945-223b924b115d",
   "metadata": {},
   "outputs": [],
   "source": [
    "padrao = re.findall(r'mailto:\\w[\\w\\.-]+@[\\w-]+\\.[\\w\\.-]*\\w{2,3}',string_de_retorno)"
   ]
  },
  {
   "cell_type": "markdown",
   "id": "eb5d84fa-01db-4d7c-8c7b-3361dd6db2b2",
   "metadata": {},
   "source": [
    "O que foi localizado e que atende a expressão regular, vai gerar as impressões de:\n",
    "\n",
    "mailto:ovidio@uninove.br\n",
    "\n",
    "mailto:nilson.salvetti@uninove.br\n",
    "\n",
    "Porém caso não se queira imprimir o <i>mailto:</i> podemos verificar o tamanho da cadeia de caracteres com a função <i>len()</i> e armazenar o seu valor na variável <i>comprimento</i>.\n",
    "\n",
    "Depois imprimir a variável <i>x</i> a partir da posição 7 (eliminando-se com isso a palavra mailto:) até seu final, ou seja, posição <i>comprimento</i>."
   ]
  },
  {
   "cell_type": "code",
   "execution_count": null,
   "id": "996a5287-4175-4e4d-9303-8fd5f8a291d7",
   "metadata": {},
   "outputs": [],
   "source": [
    "for x in padrao:\n",
    "    print(x)\n",
    "    comprimento = len(x)\n",
    "    print (x[7:comprimento])"
   ]
  },
  {
   "cell_type": "code",
   "execution_count": null,
   "id": "bce5f480-1f86-4fea-9c82-afd6166a200b",
   "metadata": {},
   "outputs": [],
   "source": []
  }
 ],
 "metadata": {
  "kernelspec": {
   "display_name": "Python 3 (ipykernel)",
   "language": "python",
   "name": "python3"
  },
  "language_info": {
   "codemirror_mode": {
    "name": "ipython",
    "version": 3
   },
   "file_extension": ".py",
   "mimetype": "text/x-python",
   "name": "python",
   "nbconvert_exporter": "python",
   "pygments_lexer": "ipython3",
   "version": "3.9.7"
  }
 },
 "nbformat": 4,
 "nbformat_minor": 5
}
